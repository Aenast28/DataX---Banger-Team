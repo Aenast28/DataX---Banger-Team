{
 "cells": [
  {
   "cell_type": "code",
   "execution_count": 6,
   "metadata": {},
   "outputs": [],
   "source": [
    "import pandas as pd\n",
    "\n",
    "def merge_datasets_and_save(first_csv_path, second_csv_path, output_csv_path):\n",
    "    \"\"\"\n",
    "    1)BASIC INFO:\n",
    "    VE FUNKCI MĚŇTE POUZE NÁZEV SLOUPCE NA JOIN A POČET ZÁZNAMŮ MODELOVÉ POPULACE PODLE POTŘEBY \n",
    "    V ČÁSTI def create_features(merged_df) MŮŽETE KODIT CO POTŘEBUJETE PODLE INSTRUKCÍ \n",
    "    PO VŠECH ÚPRAVÁCH ZAVOLEJTE FUNKCI S JEJÍMI PARAMETRY - SEKCE 3\n",
    "\n",
    "    2)POPIS FUNKCE:\n",
    "    Načte dva CSV soubory model_pop(calendar) a additional_info(listings, reviews), přejmenuje sloupec v additional_info dle potřeby, provede left join model_pop \n",
    "    (omezeného na prvních X záznamů) s additional_info na základě zadaného sloupce(zde listing_id)\n",
    "    a uloží výsledek do výsledného features CSV souboru.\n",
    "\n",
    "    3)PARAMETRY:\n",
    "    first_csv_path (str): Cesta k model_pop.\n",
    "    second_csv_path (str): Cesta k additional_info \n",
    "    output_csv_path (str): Cesta, kam se má výsledný CSV soubor uložit (features dataframe)\n",
    "    \"\"\"\n",
    "    # Načtení prvního datasetu a omezení na prvních X záznamů - X si volte jak chcete\n",
    "    model_pop = pd.read_csv(first_csv_path)\n",
    "    model_pop = model_pop.iloc[:367]  \n",
    "\n",
    "    # Načtení druhého datasetu a přejmenování sloupce\n",
    "    additional_info = pd.read_csv(second_csv_path)\n",
    "    additional_info.rename(columns={'listing_id': 'listing_id'}, inplace=True)\n",
    "\n",
    "    # Provedení left join prvního datasetu s druhým datasetem\n",
    "    merged_df = pd.merge(model_pop, additional_info, on='listing_id', how='left')\n",
    "\n",
    "    def create_features(merged_df):\n",
    "         \n",
    "        # ZDE MŮŽETE PROVÁDĚT CO CHCETE SE SVÝMI DATY\n",
    "        # HLAVNĚ NECHTE NÁZEV VÝSLEDNÉHO DATAFRAME JAKO merged_df, ABY SE KOD NEMUSEL MĚNIT A PROBĚHL TAK, JAK JE NYNÍ\n",
    "\n",
    "         return merged_df\n",
    "\n",
    "    features = create_features(merged_df)\n",
    "\n",
    "    # Uložení výsledného datasetu do CSV souboru\n",
    "    features.to_csv(output_csv_path, index=False)\n",
    "    \n",
    "    print(f\"Data byla úspěšně spojena a uložena do souboru {output_csv_path}\")\n",
    "\n",
    "merge_datasets_and_save(\"first_csv_path\", \"second_csv_path\", \"output_csv_path\")\n"
   ]
  },
  {
   "cell_type": "code",
   "execution_count": 7,
   "metadata": {},
   "outputs": [
    {
     "name": "stdout",
     "output_type": "stream",
     "text": [
      "Data byla úspěšně spojena a uložena do souboru C:\\Users\\uzivatel\\Desktop\\Data X\\REPO_BANGER_TEAM\\DataX---Banger-Team\\Data\\features.csv\n"
     ]
    }
   ],
   "source": [
    "merge_datasets_and_save('C:\\\\Users\\\\uzivatel\\\\Desktop\\\\Data X\\\\REPO_BANGER_TEAM\\\\DataX---Banger-Team\\\\Data\\\\calendar.csv', \n",
    "                        'C:\\\\Users\\\\uzivatel\\\\Desktop\\\\Data X\\\\REPO_BANGER_TEAM\\\\DataX---Banger-Team\\\\Data\\\\reviews.csv', \n",
    "                        'C:\\\\Users\\\\uzivatel\\\\Desktop\\\\Data X\\\\REPO_BANGER_TEAM\\\\DataX---Banger-Team\\\\Data\\\\features.csv')"
   ]
  }
 ],
 "metadata": {
  "kernelspec": {
   "display_name": "base",
   "language": "python",
   "name": "python3"
  },
  "language_info": {
   "codemirror_mode": {
    "name": "ipython",
    "version": 3
   },
   "file_extension": ".py",
   "mimetype": "text/x-python",
   "name": "python",
   "nbconvert_exporter": "python",
   "pygments_lexer": "ipython3",
   "version": "3.11.5"
  }
 },
 "nbformat": 4,
 "nbformat_minor": 2
}
