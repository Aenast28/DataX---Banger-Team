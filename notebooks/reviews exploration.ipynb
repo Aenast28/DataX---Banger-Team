{
 "cells": [
  {
   "cell_type": "markdown",
   "metadata": {},
   "source": [
    "### Explore reviews, detect languages and perform sentiment analysis"
   ]
  },
  {
   "cell_type": "code",
   "execution_count": 1,
   "metadata": {},
   "outputs": [],
   "source": [
    "# exploration of reviews\n",
    "import numpy as np\n",
    "import pandas as pd\n",
    "import os\n",
    "import matplotlib.pyplot as plt\n",
    "#pd.set_option('display.max_rows', 5000000)\n",
    "#pd.set_option('display.max_columns', 5000000)"
   ]
  },
  {
   "cell_type": "code",
   "execution_count": 2,
   "metadata": {},
   "outputs": [],
   "source": [
    "reviews = pd.read_csv(\"Data\\\\raw\\\\reviews.csv\")"
   ]
  },
  {
   "cell_type": "code",
   "execution_count": 3,
   "metadata": {},
   "outputs": [
    {
     "data": {
      "text/html": [
       "<div>\n",
       "<style scoped>\n",
       "    .dataframe tbody tr th:only-of-type {\n",
       "        vertical-align: middle;\n",
       "    }\n",
       "\n",
       "    .dataframe tbody tr th {\n",
       "        vertical-align: top;\n",
       "    }\n",
       "\n",
       "    .dataframe thead th {\n",
       "        text-align: right;\n",
       "    }\n",
       "</style>\n",
       "<table border=\"1\" class=\"dataframe\">\n",
       "  <thead>\n",
       "    <tr style=\"text-align: right;\">\n",
       "      <th></th>\n",
       "      <th>listing_id</th>\n",
       "      <th>id</th>\n",
       "      <th>date</th>\n",
       "      <th>reviewer_id</th>\n",
       "      <th>reviewer_name</th>\n",
       "      <th>comments</th>\n",
       "    </tr>\n",
       "  </thead>\n",
       "  <tbody>\n",
       "    <tr>\n",
       "      <th>0</th>\n",
       "      <td>3884</td>\n",
       "      <td>847944</td>\n",
       "      <td>2012-01-07</td>\n",
       "      <td>1400020</td>\n",
       "      <td>Steve</td>\n",
       "      <td>We had a very comfortable 6 night stay in Regi...</td>\n",
       "    </tr>\n",
       "    <tr>\n",
       "      <th>1</th>\n",
       "      <td>3884</td>\n",
       "      <td>1697446</td>\n",
       "      <td>2012-07-13</td>\n",
       "      <td>2021169</td>\n",
       "      <td>Morrin</td>\n",
       "      <td>We ended up staying in Regina's own apartment ...</td>\n",
       "    </tr>\n",
       "    <tr>\n",
       "      <th>2</th>\n",
       "      <td>23163</td>\n",
       "      <td>101588</td>\n",
       "      <td>2010-09-20</td>\n",
       "      <td>227165</td>\n",
       "      <td>Nathan</td>\n",
       "      <td>Incredible apartment in an ideal location. The...</td>\n",
       "    </tr>\n",
       "    <tr>\n",
       "      <th>3</th>\n",
       "      <td>498646</td>\n",
       "      <td>1445317</td>\n",
       "      <td>2012-06-09</td>\n",
       "      <td>2476967</td>\n",
       "      <td>Lea</td>\n",
       "      <td>We had a great time in Romans flat. The appart...</td>\n",
       "    </tr>\n",
       "    <tr>\n",
       "      <th>4</th>\n",
       "      <td>23163</td>\n",
       "      <td>157152</td>\n",
       "      <td>2010-12-22</td>\n",
       "      <td>286036</td>\n",
       "      <td>Hugh</td>\n",
       "      <td>The apartment was huge, we felt like we were s...</td>\n",
       "    </tr>\n",
       "  </tbody>\n",
       "</table>\n",
       "</div>"
      ],
      "text/plain": [
       "   listing_id       id        date  reviewer_id reviewer_name  \\\n",
       "0        3884   847944  2012-01-07      1400020         Steve   \n",
       "1        3884  1697446  2012-07-13      2021169        Morrin   \n",
       "2       23163   101588  2010-09-20       227165        Nathan   \n",
       "3      498646  1445317  2012-06-09      2476967           Lea   \n",
       "4       23163   157152  2010-12-22       286036          Hugh   \n",
       "\n",
       "                                            comments  \n",
       "0  We had a very comfortable 6 night stay in Regi...  \n",
       "1  We ended up staying in Regina's own apartment ...  \n",
       "2  Incredible apartment in an ideal location. The...  \n",
       "3  We had a great time in Romans flat. The appart...  \n",
       "4  The apartment was huge, we felt like we were s...  "
      ]
     },
     "execution_count": 3,
     "metadata": {},
     "output_type": "execute_result"
    }
   ],
   "source": [
    "reviews.head()"
   ]
  },
  {
   "cell_type": "code",
   "execution_count": 4,
   "metadata": {},
   "outputs": [
    {
     "name": "stdout",
     "output_type": "stream",
     "text": [
      "<class 'pandas.core.frame.DataFrame'>\n",
      "RangeIndex: 566103 entries, 0 to 566102\n",
      "Data columns (total 6 columns):\n",
      " #   Column         Non-Null Count   Dtype \n",
      "---  ------         --------------   ----- \n",
      " 0   listing_id     566103 non-null  int64 \n",
      " 1   id             566103 non-null  int64 \n",
      " 2   date           566103 non-null  object\n",
      " 3   reviewer_id    566103 non-null  int64 \n",
      " 4   reviewer_name  566103 non-null  object\n",
      " 5   comments       566080 non-null  object\n",
      "dtypes: int64(3), object(3)\n",
      "memory usage: 25.9+ MB\n"
     ]
    }
   ],
   "source": [
    "reviews.info(verbose=True, show_counts=True)"
   ]
  },
  {
   "cell_type": "code",
   "execution_count": 5,
   "metadata": {},
   "outputs": [],
   "source": [
    "#drop 23 rows with NA comment values\n",
    "reviews_cleaned = reviews.dropna(subset=['comments'])"
   ]
  },
  {
   "cell_type": "code",
   "execution_count": 6,
   "metadata": {},
   "outputs": [
    {
     "name": "stdout",
     "output_type": "stream",
     "text": [
      "The are 8066 unique listings over 4379 days.\n",
      "The listings start on 2010-05-07 and end 2023-09-17\n"
     ]
    }
   ],
   "source": [
    "listings = len(reviews.listing_id.unique())\n",
    "days = len(reviews.date.unique())\n",
    "\n",
    "print(f'The are {listings} unique listings over {days} days.')\n",
    "\n",
    "print(f'The listings start on {reviews.date.min()} and end {reviews.date.max()}')"
   ]
  },
  {
   "cell_type": "code",
   "execution_count": 7,
   "metadata": {},
   "outputs": [],
   "source": [
    "### Sentiment analysis ###\n",
    "from langdetect import detect, DetectorFactory\n",
    "DetectorFactory.seed = 0"
   ]
  },
  {
   "cell_type": "code",
   "execution_count": 8,
   "metadata": {},
   "outputs": [],
   "source": [
    "# Sample a subset of the data for language detection due to large dataset size\n",
    "sentiment_df = reviews_cleaned['comments'].sample(n=1000, random_state=1)"
   ]
  },
  {
   "cell_type": "code",
   "execution_count": 9,
   "metadata": {},
   "outputs": [],
   "source": [
    "# Detect language for the sample\n",
    "def try_detect(text):\n",
    "    try:\n",
    "        return detect(text)\n",
    "    except:\n",
    "        return \"unknown\"\n",
    "    \n",
    "detected_languages = sentiment_df.apply(\n",
    "    lambda x: \"unknown\" if x.strip() == \"\" else try_detect(x)\n",
    ")"
   ]
  },
  {
   "cell_type": "code",
   "execution_count": 10,
   "metadata": {},
   "outputs": [
    {
     "data": {
      "text/plain": [
       "comments\n",
       "en         653\n",
       "de          67\n",
       "fr          58\n",
       "cs          49\n",
       "es          35\n",
       "it          28\n",
       "sk          17\n",
       "ru          17\n",
       "ko          16\n",
       "nl          12\n",
       "zh-cn        5\n",
       "pt           5\n",
       "ca           4\n",
       "da           3\n",
       "unknown      3\n",
       "af           3\n",
       "ja           2\n",
       "pl           2\n",
       "tr           2\n",
       "hu           2\n",
       "id           2\n",
       "tl           2\n",
       "ro           2\n",
       "sw           1\n",
       "sl           1\n",
       "lt           1\n",
       "fi           1\n",
       "so           1\n",
       "zh-tw        1\n",
       "et           1\n",
       "hr           1\n",
       "uk           1\n",
       "bg           1\n",
       "sv           1\n",
       "Name: count, dtype: int64"
      ]
     },
     "execution_count": 10,
     "metadata": {},
     "output_type": "execute_result"
    }
   ],
   "source": [
    "# View the distribution of languages detected in the sample\n",
    "detected_languages.value_counts()"
   ]
  },
  {
   "cell_type": "code",
   "execution_count": 11,
   "metadata": {},
   "outputs": [
    {
     "data": {
      "text/html": [
       "<div>\n",
       "<style scoped>\n",
       "    .dataframe tbody tr th:only-of-type {\n",
       "        vertical-align: middle;\n",
       "    }\n",
       "\n",
       "    .dataframe tbody tr th {\n",
       "        vertical-align: top;\n",
       "    }\n",
       "\n",
       "    .dataframe thead th {\n",
       "        text-align: right;\n",
       "    }\n",
       "</style>\n",
       "<table border=\"1\" class=\"dataframe\">\n",
       "  <thead>\n",
       "    <tr style=\"text-align: right;\">\n",
       "      <th></th>\n",
       "      <th>comments</th>\n",
       "      <th>language</th>\n",
       "    </tr>\n",
       "  </thead>\n",
       "  <tbody>\n",
       "    <tr>\n",
       "      <th>160522</th>\n",
       "      <td>Huge space, plenty of room and a lovely bathro...</td>\n",
       "      <td>en</td>\n",
       "    </tr>\n",
       "    <tr>\n",
       "      <th>519952</th>\n",
       "      <td>Beautiful apartment with perfect location, nea...</td>\n",
       "      <td>en</td>\n",
       "    </tr>\n",
       "    <tr>\n",
       "      <th>320869</th>\n",
       "      <td>The place is much better than the pictures. Th...</td>\n",
       "      <td>en</td>\n",
       "    </tr>\n",
       "    <tr>\n",
       "      <th>365182</th>\n",
       "      <td>Es waren schöne 3 Tage in Prag.&lt;br/&gt;Die Wohnun...</td>\n",
       "      <td>de</td>\n",
       "    </tr>\n",
       "    <tr>\n",
       "      <th>557270</th>\n",
       "      <td>The place was nice and cozy, had everything we...</td>\n",
       "      <td>en</td>\n",
       "    </tr>\n",
       "  </tbody>\n",
       "</table>\n",
       "</div>"
      ],
      "text/plain": [
       "                                                 comments language\n",
       "160522  Huge space, plenty of room and a lovely bathro...       en\n",
       "519952  Beautiful apartment with perfect location, nea...       en\n",
       "320869  The place is much better than the pictures. Th...       en\n",
       "365182  Es waren schöne 3 Tage in Prag.<br/>Die Wohnun...       de\n",
       "557270  The place was nice and cozy, had everything we...       en"
      ]
     },
     "execution_count": 11,
     "metadata": {},
     "output_type": "execute_result"
    }
   ],
   "source": [
    "# Append the detected_languages Series to the sentiment_df DataFrame\n",
    "sentiment_df = sentiment_df.to_frame().assign(language=detected_languages)\n",
    "sentiment_df.head()"
   ]
  },
  {
   "cell_type": "code",
   "execution_count": 12,
   "metadata": {},
   "outputs": [
    {
     "name": "stdout",
     "output_type": "stream",
     "text": [
      "WARNING:tensorflow:From c:\\Users\\scott\\AppData\\Local\\Programs\\Python\\Python312\\Lib\\site-packages\\tf_keras\\src\\losses.py:2976: The name tf.losses.sparse_softmax_cross_entropy is deprecated. Please use tf.compat.v1.losses.sparse_softmax_cross_entropy instead.\n",
      "\n"
     ]
    }
   ],
   "source": [
    "from transformers import pipeline, DistilBertTokenizer\n",
    "\n",
    "# select model\n",
    "sentiment_pipeline = pipeline(model=\"nlptown/bert-base-multilingual-uncased-sentiment\")"
   ]
  },
  {
   "cell_type": "code",
   "execution_count": 13,
   "metadata": {},
   "outputs": [],
   "source": [
    "# Retrieve the data you want to analyze\n",
    "data = sentiment_df['comments'].tolist()"
   ]
  },
  {
   "cell_type": "code",
   "execution_count": 14,
   "metadata": {},
   "outputs": [],
   "source": [
    "# Initialize the tokenizer\n",
    "tokenizer = DistilBertTokenizer.from_pretrained(\"distilbert-base-multilingual-cased\")"
   ]
  },
  {
   "cell_type": "code",
   "execution_count": 15,
   "metadata": {},
   "outputs": [],
   "source": [
    "# Function to truncate texts to the maximum sequence length\n",
    "def truncate_texts(texts, max_length=300):\n",
    "    truncated_texts = []\n",
    "    for text in texts:\n",
    "        # Encode the texts, truncating or padding to max_length\n",
    "        # The tokenizer's encode_plus method automatically handles max_length\n",
    "        # and truncates longer texts while ensuring special tokens are added.\n",
    "        encoded_text = tokenizer.encode_plus(\n",
    "            text, \n",
    "            max_length=max_length, \n",
    "            truncation=True, \n",
    "            add_special_tokens=True,  # Adds [CLS] and [SEP] tokens\n",
    "            return_tensors='pt'  # Returns PyTorch tensors\n",
    "        )\n",
    "        # Convert the token IDs back to a string\n",
    "        truncated_text = tokenizer.decode(encoded_text['input_ids'][0], skip_special_tokens=True)\n",
    "        truncated_texts.append(truncated_text)\n",
    "    return truncated_texts\n",
    "\n",
    "data = truncate_texts(data)  # Truncate texts to fit within the model's limit"
   ]
  },
  {
   "cell_type": "code",
   "execution_count": 16,
   "metadata": {},
   "outputs": [],
   "source": [
    "# Perform sentiment analysis\n",
    "results = sentiment_pipeline(data)"
   ]
  },
  {
   "cell_type": "code",
   "execution_count": 17,
   "metadata": {},
   "outputs": [],
   "source": [
    "# Extract sentiment labels and scores to separate lists\n",
    "sentiment_labels = [result['label'] for result in results]\n",
    "sentiment_scores = [result['score'] for result in results]\n",
    "\n",
    "# Append these lists as new columns to your DataFrame\n",
    "sentiment_df['sentiment_label'] = sentiment_labels\n",
    "sentiment_df['sentiment_score'] = sentiment_scores"
   ]
  },
  {
   "cell_type": "code",
   "execution_count": 18,
   "metadata": {},
   "outputs": [
    {
     "data": {
      "text/html": [
       "<div>\n",
       "<style scoped>\n",
       "    .dataframe tbody tr th:only-of-type {\n",
       "        vertical-align: middle;\n",
       "    }\n",
       "\n",
       "    .dataframe tbody tr th {\n",
       "        vertical-align: top;\n",
       "    }\n",
       "\n",
       "    .dataframe thead th {\n",
       "        text-align: right;\n",
       "    }\n",
       "</style>\n",
       "<table border=\"1\" class=\"dataframe\">\n",
       "  <thead>\n",
       "    <tr style=\"text-align: right;\">\n",
       "      <th></th>\n",
       "      <th>comments</th>\n",
       "      <th>language</th>\n",
       "      <th>sentiment_label</th>\n",
       "      <th>sentiment_score</th>\n",
       "    </tr>\n",
       "  </thead>\n",
       "  <tbody>\n",
       "    <tr>\n",
       "      <th>160522</th>\n",
       "      <td>Huge space, plenty of room and a lovely bathro...</td>\n",
       "      <td>en</td>\n",
       "      <td>5 stars</td>\n",
       "      <td>0.896758</td>\n",
       "    </tr>\n",
       "    <tr>\n",
       "      <th>519952</th>\n",
       "      <td>Beautiful apartment with perfect location, nea...</td>\n",
       "      <td>en</td>\n",
       "      <td>5 stars</td>\n",
       "      <td>0.914622</td>\n",
       "    </tr>\n",
       "    <tr>\n",
       "      <th>320869</th>\n",
       "      <td>The place is much better than the pictures. Th...</td>\n",
       "      <td>en</td>\n",
       "      <td>5 stars</td>\n",
       "      <td>0.751109</td>\n",
       "    </tr>\n",
       "    <tr>\n",
       "      <th>365182</th>\n",
       "      <td>Es waren schöne 3 Tage in Prag.&lt;br/&gt;Die Wohnun...</td>\n",
       "      <td>de</td>\n",
       "      <td>4 stars</td>\n",
       "      <td>0.458200</td>\n",
       "    </tr>\n",
       "    <tr>\n",
       "      <th>557270</th>\n",
       "      <td>The place was nice and cozy, had everything we...</td>\n",
       "      <td>en</td>\n",
       "      <td>4 stars</td>\n",
       "      <td>0.639269</td>\n",
       "    </tr>\n",
       "    <tr>\n",
       "      <th>...</th>\n",
       "      <td>...</td>\n",
       "      <td>...</td>\n",
       "      <td>...</td>\n",
       "      <td>...</td>\n",
       "    </tr>\n",
       "    <tr>\n",
       "      <th>164799</th>\n",
       "      <td>súper conformtable &lt;br/&gt;incredible apartment</td>\n",
       "      <td>en</td>\n",
       "      <td>5 stars</td>\n",
       "      <td>0.797104</td>\n",
       "    </tr>\n",
       "    <tr>\n",
       "      <th>514785</th>\n",
       "      <td>De lokatie van het appartement was super voor ...</td>\n",
       "      <td>nl</td>\n",
       "      <td>3 stars</td>\n",
       "      <td>0.364248</td>\n",
       "    </tr>\n",
       "    <tr>\n",
       "      <th>183533</th>\n",
       "      <td>Ottima posizione, appartamento comodo e carino</td>\n",
       "      <td>it</td>\n",
       "      <td>5 stars</td>\n",
       "      <td>0.575432</td>\n",
       "    </tr>\n",
       "    <tr>\n",
       "      <th>110500</th>\n",
       "      <td>a convenient and quiet place - we enjoy our st...</td>\n",
       "      <td>en</td>\n",
       "      <td>5 stars</td>\n",
       "      <td>0.547836</td>\n",
       "    </tr>\n",
       "    <tr>\n",
       "      <th>560423</th>\n",
       "      <td>Apartamento espacioso,luminoso,limpio y muy bu...</td>\n",
       "      <td>es</td>\n",
       "      <td>5 stars</td>\n",
       "      <td>0.602553</td>\n",
       "    </tr>\n",
       "  </tbody>\n",
       "</table>\n",
       "<p>1000 rows × 4 columns</p>\n",
       "</div>"
      ],
      "text/plain": [
       "                                                 comments language  \\\n",
       "160522  Huge space, plenty of room and a lovely bathro...       en   \n",
       "519952  Beautiful apartment with perfect location, nea...       en   \n",
       "320869  The place is much better than the pictures. Th...       en   \n",
       "365182  Es waren schöne 3 Tage in Prag.<br/>Die Wohnun...       de   \n",
       "557270  The place was nice and cozy, had everything we...       en   \n",
       "...                                                   ...      ...   \n",
       "164799       súper conformtable <br/>incredible apartment       en   \n",
       "514785  De lokatie van het appartement was super voor ...       nl   \n",
       "183533     Ottima posizione, appartamento comodo e carino       it   \n",
       "110500  a convenient and quiet place - we enjoy our st...       en   \n",
       "560423  Apartamento espacioso,luminoso,limpio y muy bu...       es   \n",
       "\n",
       "       sentiment_label  sentiment_score  \n",
       "160522         5 stars         0.896758  \n",
       "519952         5 stars         0.914622  \n",
       "320869         5 stars         0.751109  \n",
       "365182         4 stars         0.458200  \n",
       "557270         4 stars         0.639269  \n",
       "...                ...              ...  \n",
       "164799         5 stars         0.797104  \n",
       "514785         3 stars         0.364248  \n",
       "183533         5 stars         0.575432  \n",
       "110500         5 stars         0.547836  \n",
       "560423         5 stars         0.602553  \n",
       "\n",
       "[1000 rows x 4 columns]"
      ]
     },
     "execution_count": 18,
     "metadata": {},
     "output_type": "execute_result"
    }
   ],
   "source": [
    "sentiment_df"
   ]
  }
 ],
 "metadata": {
  "kernelspec": {
   "display_name": "Python 3",
   "language": "python",
   "name": "python3"
  },
  "language_info": {
   "codemirror_mode": {
    "name": "ipython",
    "version": 3
   },
   "file_extension": ".py",
   "mimetype": "text/x-python",
   "name": "python",
   "nbconvert_exporter": "python",
   "pygments_lexer": "ipython3",
   "version": "3.12.1"
  }
 },
 "nbformat": 4,
 "nbformat_minor": 2
}
