{
 "cells": [
  {
   "cell_type": "code",
   "execution_count": 9,
   "id": "a499f54a",
   "metadata": {},
   "outputs": [
    {
     "name": "stdout",
     "output_type": "stream",
     "text": [
      "Requirement already satisfied: xgboost in c:\\users\\blank\\anaconda3\\lib\\site-packages (2.0.3)\n",
      "Requirement already satisfied: numpy in c:\\users\\blank\\anaconda3\\lib\\site-packages (from xgboost) (1.24.3)\n",
      "Requirement already satisfied: scipy in c:\\users\\blank\\anaconda3\\lib\\site-packages (from xgboost) (1.11.1)\n",
      "Requirement already satisfied: catboost in c:\\users\\blank\\anaconda3\\lib\\site-packages (1.2.5)\n",
      "Requirement already satisfied: graphviz in c:\\users\\blank\\anaconda3\\lib\\site-packages (from catboost) (0.20.3)\n",
      "Requirement already satisfied: matplotlib in c:\\users\\blank\\anaconda3\\lib\\site-packages (from catboost) (3.7.2)\n",
      "Requirement already satisfied: numpy>=1.16.0 in c:\\users\\blank\\anaconda3\\lib\\site-packages (from catboost) (1.24.3)\n",
      "Requirement already satisfied: pandas>=0.24 in c:\\users\\blank\\anaconda3\\lib\\site-packages (from catboost) (2.2.2)\n",
      "Requirement already satisfied: scipy in c:\\users\\blank\\anaconda3\\lib\\site-packages (from catboost) (1.11.1)\n",
      "Requirement already satisfied: plotly in c:\\users\\blank\\anaconda3\\lib\\site-packages (from catboost) (5.9.0)\n",
      "Requirement already satisfied: six in c:\\users\\blank\\anaconda3\\lib\\site-packages (from catboost) (1.16.0)\n",
      "Requirement already satisfied: python-dateutil>=2.8.2 in c:\\users\\blank\\anaconda3\\lib\\site-packages (from pandas>=0.24->catboost) (2.8.2)\n",
      "Requirement already satisfied: pytz>=2020.1 in c:\\users\\blank\\anaconda3\\lib\\site-packages (from pandas>=0.24->catboost) (2023.3.post1)\n",
      "Requirement already satisfied: tzdata>=2022.7 in c:\\users\\blank\\anaconda3\\lib\\site-packages (from pandas>=0.24->catboost) (2023.3)\n",
      "Requirement already satisfied: contourpy>=1.0.1 in c:\\users\\blank\\anaconda3\\lib\\site-packages (from matplotlib->catboost) (1.0.5)\n",
      "Requirement already satisfied: cycler>=0.10 in c:\\users\\blank\\anaconda3\\lib\\site-packages (from matplotlib->catboost) (0.11.0)\n",
      "Requirement already satisfied: fonttools>=4.22.0 in c:\\users\\blank\\anaconda3\\lib\\site-packages (from matplotlib->catboost) (4.25.0)\n",
      "Requirement already satisfied: kiwisolver>=1.0.1 in c:\\users\\blank\\anaconda3\\lib\\site-packages (from matplotlib->catboost) (1.4.4)\n",
      "Requirement already satisfied: packaging>=20.0 in c:\\users\\blank\\anaconda3\\lib\\site-packages (from matplotlib->catboost) (23.2)\n",
      "Requirement already satisfied: pillow>=6.2.0 in c:\\users\\blank\\anaconda3\\lib\\site-packages (from matplotlib->catboost) (9.4.0)\n",
      "Requirement already satisfied: pyparsing<3.1,>=2.3.1 in c:\\users\\blank\\anaconda3\\lib\\site-packages (from matplotlib->catboost) (3.0.9)\n",
      "Requirement already satisfied: tenacity>=6.2.0 in c:\\users\\blank\\anaconda3\\lib\\site-packages (from plotly->catboost) (8.2.2)\n"
     ]
    }
   ],
   "source": [
    "!pip install catboost"
   ]
  },
  {
   "cell_type": "markdown",
   "id": "51b68938",
   "metadata": {},
   "source": [
    "### Catboost\n",
    "\n",
    "Firstly, we chose the Catboost algorithm, because we've two main issues.\n",
    "We have a lot of categorical variables and we (most likely) don't have enough data to justify having all of them.\n",
    "Our first baseline models have had tendency to be overfitted.\n",
    "\n",
    "Catboost is a way to deal with both of these issues.\n",
    "\n",
    "\n",
    "#### The model's limitation \n",
    "The main issue is the teaching period. The computational complexity of the model is really noticable, especially as we add more features.\n",
    "\n",
    "The interpretability. Interpreting the individual trees can be difficult. \n",
    "\n",
    "#### What to improve? \n",
    "\n",
    "More data, most likely?  (meaning diverse data, there is only around 9000 airbnbs)\n",
    "\n",
    "\n",
    "#### Hyperparameters\n",
    "\n",
    "As an evaluation metric we've used R2 (because of the need for interepretability). \n",
    "\n",
    "We've also used learning rate of 0.282558\n",
    "\n",
    "And lastly, we've used the standard way for a catboost to handle categorical variables, out of which we've kept 11 (optimal number)\n",
    "\n",
    "#### Validation Strategy \n",
    "\n",
    "Walk-forward validation\n",
    "\n",
    "\n",
    "#### The most important features\n",
    "\n",
    "['maximum_nights',\n",
    "  'new_year',\n",
    "  'neighbourhood_cleansed',\n",
    "  'room_type',\n",
    "  'bathrooms_numeric',\n",
    "  'amenities_num',\n",
    "  'host_response_time',\n",
    "  'ranking',\n",
    "  'Distance',\n",
    "  'Verification',\n",
    "  'last_review',\n",
    "  'has_availability']}\n",
    "\n",
    "#### Final Evaluation\n",
    "\n",
    "R2 = 76%\n"
   ]
  },
  {
   "cell_type": "code",
   "execution_count": 110,
   "id": "f4c388b6",
   "metadata": {},
   "outputs": [],
   "source": [
    "import pandas as pd\n",
    "import numpy as np\n",
    "import matplotlib.pyplot as plt\n",
    "import seaborn as sns\n",
    "\n",
    "\n",
    "# \n",
    "pd.set_option('display.max_columns',None)\n",
    "csv_file=\"Data\\\\interim\\\\features -1-nodum.csv\"\n",
    "\n",
    "\n",
    "data = pd.read_csv(csv_file)\n",
    "data1 =pd.read_csv(\"Data\\\\interim\\\\features-j-2.csv\")\n",
    "data2 =pd.read_csv(\"Data\\\\interim\\\\features_cal_cal.csv\")\n",
    "data3 =pd.read_csv(\"Data\\\\interim\\\\features_cal_rev.csv\")\n",
    "merged_df = pd.merge(data2, data1, on='listing_id', how='left')\n",
    "merged_df = pd.merge(merged_df, data, on='listing_id', how='left')\n",
    "merged_df = pd.merge(merged_df, data3, on='listing_id', how='left')\n"
   ]
  },
  {
   "cell_type": "code",
   "execution_count": 111,
   "id": "a7db1703",
   "metadata": {},
   "outputs": [
    {
     "data": {
      "text/html": [
       "<div>\n",
       "<style scoped>\n",
       "    .dataframe tbody tr th:only-of-type {\n",
       "        vertical-align: middle;\n",
       "    }\n",
       "\n",
       "    .dataframe tbody tr th {\n",
       "        vertical-align: top;\n",
       "    }\n",
       "\n",
       "    .dataframe thead th {\n",
       "        text-align: right;\n",
       "    }\n",
       "</style>\n",
       "<table border=\"1\" class=\"dataframe\">\n",
       "  <thead>\n",
       "    <tr style=\"text-align: right;\">\n",
       "      <th></th>\n",
       "      <th>listing_id</th>\n",
       "      <th>date</th>\n",
       "      <th>price</th>\n",
       "      <th>minimum_nights</th>\n",
       "      <th>maximum_nights</th>\n",
       "      <th>in_season</th>\n",
       "      <th>weekend</th>\n",
       "      <th>new_year</th>\n",
       "      <th>busy</th>\n",
       "      <th>neighbourhood_cleansed</th>\n",
       "      <th>room_type</th>\n",
       "      <th>accommodates</th>\n",
       "      <th>bathrooms_numeric</th>\n",
       "      <th>beds</th>\n",
       "      <th>bathrooms_shared</th>\n",
       "      <th>amenities_num</th>\n",
       "      <th>adjusted_price</th>\n",
       "      <th>host_response_time</th>\n",
       "      <th>host_is_superhost</th>\n",
       "      <th>ranking</th>\n",
       "      <th>Distance</th>\n",
       "      <th>Verification</th>\n",
       "      <th>reviews_per_month</th>\n",
       "      <th>instant_bookable</th>\n",
       "      <th>last_review</th>\n",
       "      <th>has_availability</th>\n",
       "      <th>availability_30</th>\n",
       "      <th>sentiment_score</th>\n",
       "    </tr>\n",
       "  </thead>\n",
       "  <tbody>\n",
       "    <tr>\n",
       "      <th>2142</th>\n",
       "      <td>21614053</td>\n",
       "      <td>2024-09-15</td>\n",
       "      <td>1267.0</td>\n",
       "      <td>2</td>\n",
       "      <td>90</td>\n",
       "      <td>0</td>\n",
       "      <td>1</td>\n",
       "      <td>0</td>\n",
       "      <td>1.000000</td>\n",
       "      <td>Praha 8</td>\n",
       "      <td>Entire home/apt</td>\n",
       "      <td>3</td>\n",
       "      <td>1.0</td>\n",
       "      <td>2.0</td>\n",
       "      <td>0</td>\n",
       "      <td>257</td>\n",
       "      <td>945.0</td>\n",
       "      <td>0.0</td>\n",
       "      <td>f</td>\n",
       "      <td>4.59</td>\n",
       "      <td>5.286659</td>\n",
       "      <td>Both</td>\n",
       "      <td>2.13</td>\n",
       "      <td>t</td>\n",
       "      <td>42.0</td>\n",
       "      <td>t</td>\n",
       "      <td>0</td>\n",
       "      <td>0.622370</td>\n",
       "    </tr>\n",
       "    <tr>\n",
       "      <th>6114</th>\n",
       "      <td>659321599997741448</td>\n",
       "      <td>2024-09-15</td>\n",
       "      <td>1690.0</td>\n",
       "      <td>2</td>\n",
       "      <td>365</td>\n",
       "      <td>0</td>\n",
       "      <td>1</td>\n",
       "      <td>0</td>\n",
       "      <td>1.000000</td>\n",
       "      <td>Praha 2</td>\n",
       "      <td>Entire home/apt</td>\n",
       "      <td>3</td>\n",
       "      <td>1.0</td>\n",
       "      <td>2.0</td>\n",
       "      <td>0</td>\n",
       "      <td>756</td>\n",
       "      <td>1300.0</td>\n",
       "      <td>0.0</td>\n",
       "      <td>f</td>\n",
       "      <td>4.33</td>\n",
       "      <td>1.679656</td>\n",
       "      <td>Both</td>\n",
       "      <td>0.41</td>\n",
       "      <td>f</td>\n",
       "      <td>18.0</td>\n",
       "      <td>t</td>\n",
       "      <td>0</td>\n",
       "      <td>0.633449</td>\n",
       "    </tr>\n",
       "    <tr>\n",
       "      <th>1935</th>\n",
       "      <td>19480089</td>\n",
       "      <td>2024-09-15</td>\n",
       "      <td>2400.0</td>\n",
       "      <td>1</td>\n",
       "      <td>1125</td>\n",
       "      <td>0</td>\n",
       "      <td>1</td>\n",
       "      <td>0</td>\n",
       "      <td>0.616438</td>\n",
       "      <td>Praha 1</td>\n",
       "      <td>Entire home/apt</td>\n",
       "      <td>3</td>\n",
       "      <td>1.0</td>\n",
       "      <td>2.0</td>\n",
       "      <td>0</td>\n",
       "      <td>682</td>\n",
       "      <td>2200.0</td>\n",
       "      <td>0.0</td>\n",
       "      <td>t</td>\n",
       "      <td>4.92</td>\n",
       "      <td>3.855206</td>\n",
       "      <td>Both</td>\n",
       "      <td>5.50</td>\n",
       "      <td>t</td>\n",
       "      <td>7.0</td>\n",
       "      <td>t</td>\n",
       "      <td>6</td>\n",
       "      <td>0.696647</td>\n",
       "    </tr>\n",
       "    <tr>\n",
       "      <th>1161</th>\n",
       "      <td>12420130</td>\n",
       "      <td>2024-09-15</td>\n",
       "      <td>2579.0</td>\n",
       "      <td>2</td>\n",
       "      <td>1125</td>\n",
       "      <td>0</td>\n",
       "      <td>1</td>\n",
       "      <td>0</td>\n",
       "      <td>1.000000</td>\n",
       "      <td>Praha 2</td>\n",
       "      <td>Entire home/apt</td>\n",
       "      <td>6</td>\n",
       "      <td>2.5</td>\n",
       "      <td>6.0</td>\n",
       "      <td>0</td>\n",
       "      <td>216</td>\n",
       "      <td>3193.0</td>\n",
       "      <td>1.0</td>\n",
       "      <td>t</td>\n",
       "      <td>5.00</td>\n",
       "      <td>1.679656</td>\n",
       "      <td>Both</td>\n",
       "      <td>0.07</td>\n",
       "      <td>f</td>\n",
       "      <td>56.0</td>\n",
       "      <td>t</td>\n",
       "      <td>0</td>\n",
       "      <td>0.777992</td>\n",
       "    </tr>\n",
       "    <tr>\n",
       "      <th>8529</th>\n",
       "      <td>946374196783265511</td>\n",
       "      <td>2024-09-15</td>\n",
       "      <td>2000.0</td>\n",
       "      <td>1</td>\n",
       "      <td>365</td>\n",
       "      <td>0</td>\n",
       "      <td>1</td>\n",
       "      <td>0</td>\n",
       "      <td>0.983562</td>\n",
       "      <td>Praha 1</td>\n",
       "      <td>Private room</td>\n",
       "      <td>2</td>\n",
       "      <td>1.0</td>\n",
       "      <td>1.0</td>\n",
       "      <td>0</td>\n",
       "      <td>220</td>\n",
       "      <td>2000.0</td>\n",
       "      <td>0.0</td>\n",
       "      <td>f</td>\n",
       "      <td>4.33</td>\n",
       "      <td>488.051471</td>\n",
       "      <td>Both</td>\n",
       "      <td>2.73</td>\n",
       "      <td>t</td>\n",
       "      <td>7.0</td>\n",
       "      <td>t</td>\n",
       "      <td>6</td>\n",
       "      <td>0.528327</td>\n",
       "    </tr>\n",
       "    <tr>\n",
       "      <th>...</th>\n",
       "      <td>...</td>\n",
       "      <td>...</td>\n",
       "      <td>...</td>\n",
       "      <td>...</td>\n",
       "      <td>...</td>\n",
       "      <td>...</td>\n",
       "      <td>...</td>\n",
       "      <td>...</td>\n",
       "      <td>...</td>\n",
       "      <td>...</td>\n",
       "      <td>...</td>\n",
       "      <td>...</td>\n",
       "      <td>...</td>\n",
       "      <td>...</td>\n",
       "      <td>...</td>\n",
       "      <td>...</td>\n",
       "      <td>...</td>\n",
       "      <td>...</td>\n",
       "      <td>...</td>\n",
       "      <td>...</td>\n",
       "      <td>...</td>\n",
       "      <td>...</td>\n",
       "      <td>...</td>\n",
       "      <td>...</td>\n",
       "      <td>...</td>\n",
       "      <td>...</td>\n",
       "      <td>...</td>\n",
       "      <td>...</td>\n",
       "    </tr>\n",
       "    <tr>\n",
       "      <th>1648</th>\n",
       "      <td>16751211</td>\n",
       "      <td>2023-09-17</td>\n",
       "      <td>1590.0</td>\n",
       "      <td>20</td>\n",
       "      <td>210</td>\n",
       "      <td>0</td>\n",
       "      <td>1</td>\n",
       "      <td>0</td>\n",
       "      <td>0.463014</td>\n",
       "      <td>Praha 2</td>\n",
       "      <td>Entire home/apt</td>\n",
       "      <td>2</td>\n",
       "      <td>1.0</td>\n",
       "      <td>1.0</td>\n",
       "      <td>0</td>\n",
       "      <td>346</td>\n",
       "      <td>1590.0</td>\n",
       "      <td>1.0</td>\n",
       "      <td>t</td>\n",
       "      <td>4.93</td>\n",
       "      <td>1.679656</td>\n",
       "      <td>Both</td>\n",
       "      <td>0.52</td>\n",
       "      <td>f</td>\n",
       "      <td>8.0</td>\n",
       "      <td>t</td>\n",
       "      <td>0</td>\n",
       "      <td>0.657788</td>\n",
       "    </tr>\n",
       "    <tr>\n",
       "      <th>7366</th>\n",
       "      <td>852075590248372712</td>\n",
       "      <td>2023-09-17</td>\n",
       "      <td>4789.0</td>\n",
       "      <td>1</td>\n",
       "      <td>100</td>\n",
       "      <td>0</td>\n",
       "      <td>1</td>\n",
       "      <td>0</td>\n",
       "      <td>0.265753</td>\n",
       "      <td>Praha 1</td>\n",
       "      <td>Entire home/apt</td>\n",
       "      <td>12</td>\n",
       "      <td>2.0</td>\n",
       "      <td>12.0</td>\n",
       "      <td>0</td>\n",
       "      <td>743</td>\n",
       "      <td>21023.0</td>\n",
       "      <td>0.0</td>\n",
       "      <td>f</td>\n",
       "      <td>3.83</td>\n",
       "      <td>3.855206</td>\n",
       "      <td>Both</td>\n",
       "      <td>2.73</td>\n",
       "      <td>t</td>\n",
       "      <td>8.0</td>\n",
       "      <td>t</td>\n",
       "      <td>18</td>\n",
       "      <td>0.627754</td>\n",
       "    </tr>\n",
       "    <tr>\n",
       "      <th>5775</th>\n",
       "      <td>628174394749908313</td>\n",
       "      <td>2023-09-17</td>\n",
       "      <td>1550.0</td>\n",
       "      <td>2</td>\n",
       "      <td>60</td>\n",
       "      <td>0</td>\n",
       "      <td>1</td>\n",
       "      <td>0</td>\n",
       "      <td>0.701370</td>\n",
       "      <td>Praha 1</td>\n",
       "      <td>Entire home/apt</td>\n",
       "      <td>3</td>\n",
       "      <td>1.0</td>\n",
       "      <td>2.0</td>\n",
       "      <td>0</td>\n",
       "      <td>709</td>\n",
       "      <td>1550.0</td>\n",
       "      <td>0.0</td>\n",
       "      <td>f</td>\n",
       "      <td>4.73</td>\n",
       "      <td>488.051471</td>\n",
       "      <td>Both</td>\n",
       "      <td>2.81</td>\n",
       "      <td>f</td>\n",
       "      <td>7.0</td>\n",
       "      <td>t</td>\n",
       "      <td>3</td>\n",
       "      <td>0.706993</td>\n",
       "    </tr>\n",
       "    <tr>\n",
       "      <th>7358</th>\n",
       "      <td>851610674434848085</td>\n",
       "      <td>2023-09-17</td>\n",
       "      <td>3880.0</td>\n",
       "      <td>3</td>\n",
       "      <td>1125</td>\n",
       "      <td>0</td>\n",
       "      <td>1</td>\n",
       "      <td>0</td>\n",
       "      <td>0.093151</td>\n",
       "      <td>Praha 1</td>\n",
       "      <td>Entire home/apt</td>\n",
       "      <td>6</td>\n",
       "      <td>1.0</td>\n",
       "      <td>3.0</td>\n",
       "      <td>0</td>\n",
       "      <td>780</td>\n",
       "      <td>6091.0</td>\n",
       "      <td>0.0</td>\n",
       "      <td>t</td>\n",
       "      <td>5.00</td>\n",
       "      <td>3.855206</td>\n",
       "      <td>Both</td>\n",
       "      <td>3.93</td>\n",
       "      <td>f</td>\n",
       "      <td>8.0</td>\n",
       "      <td>t</td>\n",
       "      <td>8</td>\n",
       "      <td>0.737161</td>\n",
       "    </tr>\n",
       "    <tr>\n",
       "      <th>364</th>\n",
       "      <td>2939716</td>\n",
       "      <td>2023-09-17</td>\n",
       "      <td>11520.0</td>\n",
       "      <td>5</td>\n",
       "      <td>28</td>\n",
       "      <td>0</td>\n",
       "      <td>1</td>\n",
       "      <td>0</td>\n",
       "      <td>1.000000</td>\n",
       "      <td>Praha 3</td>\n",
       "      <td>Entire home/apt</td>\n",
       "      <td>7</td>\n",
       "      <td>1.0</td>\n",
       "      <td>4.0</td>\n",
       "      <td>0</td>\n",
       "      <td>511</td>\n",
       "      <td>11520.0</td>\n",
       "      <td>0.0</td>\n",
       "      <td>f</td>\n",
       "      <td>4.25</td>\n",
       "      <td>490.157244</td>\n",
       "      <td>Both</td>\n",
       "      <td>0.18</td>\n",
       "      <td>f</td>\n",
       "      <td>16.0</td>\n",
       "      <td>t</td>\n",
       "      <td>0</td>\n",
       "      <td>0.591568</td>\n",
       "    </tr>\n",
       "  </tbody>\n",
       "</table>\n",
       "<p>8949 rows × 28 columns</p>\n",
       "</div>"
      ],
      "text/plain": [
       "              listing_id        date    price  minimum_nights  maximum_nights  \\\n",
       "2142            21614053  2024-09-15   1267.0               2              90   \n",
       "6114  659321599997741448  2024-09-15   1690.0               2             365   \n",
       "1935            19480089  2024-09-15   2400.0               1            1125   \n",
       "1161            12420130  2024-09-15   2579.0               2            1125   \n",
       "8529  946374196783265511  2024-09-15   2000.0               1             365   \n",
       "...                  ...         ...      ...             ...             ...   \n",
       "1648            16751211  2023-09-17   1590.0              20             210   \n",
       "7366  852075590248372712  2023-09-17   4789.0               1             100   \n",
       "5775  628174394749908313  2023-09-17   1550.0               2              60   \n",
       "7358  851610674434848085  2023-09-17   3880.0               3            1125   \n",
       "364              2939716  2023-09-17  11520.0               5              28   \n",
       "\n",
       "      in_season  weekend  new_year      busy neighbourhood_cleansed  \\\n",
       "2142          0        1         0  1.000000                Praha 8   \n",
       "6114          0        1         0  1.000000                Praha 2   \n",
       "1935          0        1         0  0.616438                Praha 1   \n",
       "1161          0        1         0  1.000000                Praha 2   \n",
       "8529          0        1         0  0.983562                Praha 1   \n",
       "...         ...      ...       ...       ...                    ...   \n",
       "1648          0        1         0  0.463014                Praha 2   \n",
       "7366          0        1         0  0.265753                Praha 1   \n",
       "5775          0        1         0  0.701370                Praha 1   \n",
       "7358          0        1         0  0.093151                Praha 1   \n",
       "364           0        1         0  1.000000                Praha 3   \n",
       "\n",
       "            room_type  accommodates  bathrooms_numeric  beds  \\\n",
       "2142  Entire home/apt             3                1.0   2.0   \n",
       "6114  Entire home/apt             3                1.0   2.0   \n",
       "1935  Entire home/apt             3                1.0   2.0   \n",
       "1161  Entire home/apt             6                2.5   6.0   \n",
       "8529     Private room             2                1.0   1.0   \n",
       "...               ...           ...                ...   ...   \n",
       "1648  Entire home/apt             2                1.0   1.0   \n",
       "7366  Entire home/apt            12                2.0  12.0   \n",
       "5775  Entire home/apt             3                1.0   2.0   \n",
       "7358  Entire home/apt             6                1.0   3.0   \n",
       "364   Entire home/apt             7                1.0   4.0   \n",
       "\n",
       "      bathrooms_shared  amenities_num  adjusted_price  host_response_time  \\\n",
       "2142                 0            257           945.0                 0.0   \n",
       "6114                 0            756          1300.0                 0.0   \n",
       "1935                 0            682          2200.0                 0.0   \n",
       "1161                 0            216          3193.0                 1.0   \n",
       "8529                 0            220          2000.0                 0.0   \n",
       "...                ...            ...             ...                 ...   \n",
       "1648                 0            346          1590.0                 1.0   \n",
       "7366                 0            743         21023.0                 0.0   \n",
       "5775                 0            709          1550.0                 0.0   \n",
       "7358                 0            780          6091.0                 0.0   \n",
       "364                  0            511         11520.0                 0.0   \n",
       "\n",
       "     host_is_superhost  ranking    Distance Verification  reviews_per_month  \\\n",
       "2142                 f     4.59    5.286659         Both               2.13   \n",
       "6114                 f     4.33    1.679656         Both               0.41   \n",
       "1935                 t     4.92    3.855206         Both               5.50   \n",
       "1161                 t     5.00    1.679656         Both               0.07   \n",
       "8529                 f     4.33  488.051471         Both               2.73   \n",
       "...                ...      ...         ...          ...                ...   \n",
       "1648                 t     4.93    1.679656         Both               0.52   \n",
       "7366                 f     3.83    3.855206         Both               2.73   \n",
       "5775                 f     4.73  488.051471         Both               2.81   \n",
       "7358                 t     5.00    3.855206         Both               3.93   \n",
       "364                  f     4.25  490.157244         Both               0.18   \n",
       "\n",
       "     instant_bookable  last_review has_availability  availability_30  \\\n",
       "2142                t         42.0                t                0   \n",
       "6114                f         18.0                t                0   \n",
       "1935                t          7.0                t                6   \n",
       "1161                f         56.0                t                0   \n",
       "8529                t          7.0                t                6   \n",
       "...               ...          ...              ...              ...   \n",
       "1648                f          8.0                t                0   \n",
       "7366                t          8.0                t               18   \n",
       "5775                f          7.0                t                3   \n",
       "7358                f          8.0                t                8   \n",
       "364                 f         16.0                t                0   \n",
       "\n",
       "      sentiment_score  \n",
       "2142         0.622370  \n",
       "6114         0.633449  \n",
       "1935         0.696647  \n",
       "1161         0.777992  \n",
       "8529         0.528327  \n",
       "...               ...  \n",
       "1648         0.657788  \n",
       "7366         0.627754  \n",
       "5775         0.706993  \n",
       "7358         0.737161  \n",
       "364          0.591568  \n",
       "\n",
       "[8949 rows x 28 columns]"
      ]
     },
     "execution_count": 111,
     "metadata": {},
     "output_type": "execute_result"
    }
   ],
   "source": [
    "merged_df = merged_df.sort_values(by='date', ascending=False)\n",
    "merged_df"
   ]
  },
  {
   "cell_type": "code",
   "execution_count": 112,
   "id": "919ed185",
   "metadata": {},
   "outputs": [
    {
     "name": "stderr",
     "output_type": "stream",
     "text": [
      "C:\\Users\\blank\\AppData\\Local\\Temp\\ipykernel_5064\\1451993049.py:3: FutureWarning:\n",
      "\n",
      "A value is trying to be set on a copy of a DataFrame or Series through chained assignment using an inplace method.\n",
      "The behavior will change in pandas 3.0. This inplace method will never work because the intermediate object on which we are setting values always behaves as a copy.\n",
      "\n",
      "For example, when doing 'df[col].method(value, inplace=True)', try using 'df.method({col: value}, inplace=True)' or df[col] = df[col].method(value) instead, to perform the operation inplace on the original object.\n",
      "\n",
      "\n",
      "\n",
      "C:\\Users\\blank\\AppData\\Local\\Temp\\ipykernel_5064\\1451993049.py:5: FutureWarning:\n",
      "\n",
      "A value is trying to be set on a copy of a DataFrame or Series through chained assignment using an inplace method.\n",
      "The behavior will change in pandas 3.0. This inplace method will never work because the intermediate object on which we are setting values always behaves as a copy.\n",
      "\n",
      "For example, when doing 'df[col].method(value, inplace=True)', try using 'df.method({col: value}, inplace=True)' or df[col] = df[col].method(value) instead, to perform the operation inplace on the original object.\n",
      "\n",
      "\n",
      "\n",
      "C:\\Users\\blank\\AppData\\Local\\Temp\\ipykernel_5064\\1451993049.py:6: FutureWarning:\n",
      "\n",
      "A value is trying to be set on a copy of a DataFrame or Series through chained assignment using an inplace method.\n",
      "The behavior will change in pandas 3.0. This inplace method will never work because the intermediate object on which we are setting values always behaves as a copy.\n",
      "\n",
      "For example, when doing 'df[col].method(value, inplace=True)', try using 'df.method({col: value}, inplace=True)' or df[col] = df[col].method(value) instead, to perform the operation inplace on the original object.\n",
      "\n",
      "\n",
      "\n"
     ]
    }
   ],
   "source": [
    "merged_df = merged_df.astype({col: 'str' for col in merged_df.select_dtypes(include='object').columns})\n",
    "mode_value = merged_df['Verification'].mode()[0]\n",
    "merged_df['Verification'].fillna(mode_value, inplace=True)\n",
    "mode_value = merged_df['Distance'].mode()[0]\n",
    "merged_df['Distance'].fillna(mode_value, inplace=True)\n",
    "merged_df['sentiment_score'].fillna(0.5, inplace=True)\n",
    "\n"
   ]
  },
  {
   "cell_type": "code",
   "execution_count": 113,
   "id": "d879e4a5",
   "metadata": {},
   "outputs": [],
   "source": [
    "categorical_features=[\"host_is_superhost\",\"Verification\",\"instant_bookable\",\"has_availability\",\"neighbourhood_cleansed\",\"room_type\"]"
   ]
  },
  {
   "cell_type": "code",
   "execution_count": 100,
   "id": "bfbebefa",
   "metadata": {},
   "outputs": [],
   "source": [
    "import pandas as pd\n",
    "from sklearn.model_selection import train_test_split\n",
    "from sklearn.metrics import mean_squared_error, r2_score\n",
    "\n",
    "columns_to_drop=[\"listing_id\",\"adjusted_price\",\"date\",\"price\"]\n",
    "x_train = merged_df.iloc[-7000:].drop(columns_to_drop, axis=1)\n",
    "y_train = merged_df.iloc[-7000:]['price']\n",
    "\n",
    "x_test = merged_df.drop(x_train.index).drop(columns_to_drop, axis=1)\n",
    "\n",
    "y_test = merged_df.drop(y_train.index)['price']\n"
   ]
  },
  {
   "cell_type": "code",
   "execution_count": 101,
   "id": "ed9c043e",
   "metadata": {},
   "outputs": [
    {
     "data": {
      "application/vnd.jupyter.widget-view+json": {
       "model_id": "995adc9ba944432d8fb03af6bd969e3d",
       "version_major": 2,
       "version_minor": 0
      },
      "text/plain": [
       "MetricVisualizer(layout=Layout(align_self='stretch', height='500px'))"
      ]
     },
     "metadata": {},
     "output_type": "display_data"
    },
    {
     "name": "stdout",
     "output_type": "stream",
     "text": [
      "Learning rate set to 0.190343\n",
      "Step #1 out of 5\n",
      "0:\tlearn: 0.0168328\ttest: 0.0364943\tbest: 0.0364943 (0)\ttotal: 72.4ms\tremaining: 13.7s\n",
      "10:\tlearn: 0.3838644\ttest: 0.0379424\tbest: 0.0609473 (2)\ttotal: 1.39s\tremaining: 22.7s\n",
      "20:\tlearn: 0.5507599\ttest: 0.1710285\tbest: 0.1800848 (12)\ttotal: 2.15s\tremaining: 17.3s\n",
      "30:\tlearn: 0.6402073\ttest: 0.3623858\tbest: 0.3704209 (29)\ttotal: 2.92s\tremaining: 15s\n",
      "40:\tlearn: 0.7079486\ttest: 0.3945089\tbest: 0.4067481 (38)\ttotal: 3.64s\tremaining: 13.2s\n",
      "50:\tlearn: 0.7398939\ttest: 0.4758222\tbest: 0.4758222 (50)\ttotal: 4.59s\tremaining: 12.5s\n",
      "60:\tlearn: 0.7659299\ttest: 0.4347219\tbest: 0.4760839 (54)\ttotal: 5.71s\tremaining: 12.1s\n",
      "70:\tlearn: 0.7873793\ttest: 0.4294483\tbest: 0.4760839 (54)\ttotal: 6.39s\tremaining: 10.7s\n",
      "80:\tlearn: 0.8103008\ttest: 0.4833088\tbest: 0.4833088 (80)\ttotal: 7.07s\tremaining: 9.52s\n",
      "90:\tlearn: 0.8426244\ttest: 0.5304420\tbest: 0.5426912 (85)\ttotal: 7.69s\tremaining: 8.37s\n",
      "100:\tlearn: 0.8602363\ttest: 0.5445647\tbest: 0.5504016 (91)\ttotal: 8.54s\tremaining: 7.53s\n",
      "110:\tlearn: 0.8700174\ttest: 0.5353437\tbest: 0.5504016 (91)\ttotal: 11.1s\tremaining: 7.87s\n",
      "120:\tlearn: 0.8825873\ttest: 0.5588626\tbest: 0.5589157 (119)\ttotal: 11.7s\tremaining: 6.68s\n",
      "130:\tlearn: 0.8912340\ttest: 0.5451291\tbest: 0.5589157 (119)\ttotal: 12.5s\tremaining: 5.64s\n",
      "140:\tlearn: 0.8990525\ttest: 0.5396073\tbest: 0.5589157 (119)\ttotal: 13.2s\tremaining: 4.59s\n",
      "150:\tlearn: 0.9045661\ttest: 0.5367724\tbest: 0.5589157 (119)\ttotal: 13.9s\tremaining: 3.58s\n",
      "160:\tlearn: 0.9125581\ttest: 0.5359662\tbest: 0.5589157 (119)\ttotal: 14.6s\tremaining: 2.63s\n",
      "170:\tlearn: 0.9175305\ttest: 0.5352537\tbest: 0.5589157 (119)\ttotal: 15.4s\tremaining: 1.71s\n",
      "180:\tlearn: 0.9220752\ttest: 0.5308040\tbest: 0.5589157 (119)\ttotal: 16s\tremaining: 797ms\n",
      "189:\tlearn: 0.9264776\ttest: 0.5306963\tbest: 0.5589157 (119)\ttotal: 16.8s\tremaining: 0us\n",
      "\n",
      "bestTest = 0.5589156745\n",
      "bestIteration = 119\n",
      "\n",
      "Shrink model to first 120 iterations.\n",
      "Feature #18 eliminated\n",
      "Feature #5 eliminated\n",
      "Feature #11 eliminated\n",
      "Step #2 out of 5\n",
      "0:\tlearn: 0.0149825\ttest: 0.0171071\tbest: 0.0171071 (0)\ttotal: 83.3ms\tremaining: 15.7s\n",
      "10:\tlearn: 0.1757364\ttest: 0.3647890\tbest: 0.3647890 (10)\ttotal: 817ms\tremaining: 13.3s\n",
      "20:\tlearn: 0.2385378\ttest: 0.3644513\tbest: 0.3688308 (13)\ttotal: 1.38s\tremaining: 11.1s\n",
      "30:\tlearn: 0.3061910\ttest: 0.4881035\tbest: 0.4886448 (26)\ttotal: 2.04s\tremaining: 10.5s\n",
      "40:\tlearn: 0.3248425\ttest: 0.5163420\tbest: 0.5205290 (32)\ttotal: 2.65s\tremaining: 9.64s\n",
      "50:\tlearn: 0.3765273\ttest: 0.6093075\tbest: 0.6093075 (50)\ttotal: 3.44s\tremaining: 9.38s\n",
      "60:\tlearn: 0.4311622\ttest: 0.5954551\tbest: 0.6097430 (51)\ttotal: 4.14s\tremaining: 8.76s\n",
      "70:\tlearn: 0.4854856\ttest: 0.5818889\tbest: 0.6097430 (51)\ttotal: 4.83s\tremaining: 8.09s\n",
      "80:\tlearn: 0.5083268\ttest: 0.5893600\tbest: 0.6097430 (51)\ttotal: 5.5s\tremaining: 7.41s\n",
      "90:\tlearn: 0.5403205\ttest: 0.6007862\tbest: 0.6097430 (51)\ttotal: 6.15s\tremaining: 6.69s\n",
      "100:\tlearn: 0.5882876\ttest: 0.6173000\tbest: 0.6191161 (99)\ttotal: 6.85s\tremaining: 6.04s\n",
      "110:\tlearn: 0.6032592\ttest: 0.6159105\tbest: 0.6191161 (99)\ttotal: 7.54s\tremaining: 5.37s\n",
      "120:\tlearn: 0.6332656\ttest: 0.6020233\tbest: 0.6191161 (99)\ttotal: 8.38s\tremaining: 4.78s\n",
      "130:\tlearn: 0.6693394\ttest: 0.6149008\tbest: 0.6191161 (99)\ttotal: 9.23s\tremaining: 4.16s\n",
      "140:\tlearn: 0.6881634\ttest: 0.6190705\tbest: 0.6195109 (134)\ttotal: 10.3s\tremaining: 3.58s\n",
      "150:\tlearn: 0.7104507\ttest: 0.6125082\tbest: 0.6195109 (134)\ttotal: 11s\tremaining: 2.84s\n",
      "160:\tlearn: 0.7298503\ttest: 0.6395556\tbest: 0.6395556 (160)\ttotal: 11.8s\tremaining: 2.13s\n",
      "170:\tlearn: 0.7441139\ttest: 0.6325605\tbest: 0.6398351 (161)\ttotal: 12.6s\tremaining: 1.4s\n",
      "180:\tlearn: 0.7519215\ttest: 0.6378982\tbest: 0.6398351 (161)\ttotal: 13.4s\tremaining: 666ms\n",
      "189:\tlearn: 0.7622892\ttest: 0.6248815\tbest: 0.6398351 (161)\ttotal: 14.2s\tremaining: 0us\n",
      "\n",
      "bestTest = 0.6398351093\n",
      "bestIteration = 161\n",
      "\n",
      "Shrink model to first 162 iterations.\n",
      "Feature #8 eliminated\n",
      "Feature #10 eliminated\n",
      "Feature #22 eliminated\n",
      "Step #3 out of 5\n",
      "0:\tlearn: 0.0355802\ttest: 0.1378341\tbest: 0.1378341 (0)\ttotal: 74.7ms\tremaining: 14.1s\n",
      "10:\tlearn: 0.1314175\ttest: 0.4436225\tbest: 0.4436225 (10)\ttotal: 756ms\tremaining: 12.3s\n",
      "20:\tlearn: 0.1541709\ttest: 0.4666104\tbest: 0.4670941 (19)\ttotal: 1.48s\tremaining: 11.9s\n",
      "30:\tlearn: 0.2134024\ttest: 0.6210182\tbest: 0.6212027 (29)\ttotal: 2.36s\tremaining: 12.1s\n",
      "40:\tlearn: 0.2428161\ttest: 0.6315953\tbest: 0.6376572 (35)\ttotal: 3.16s\tremaining: 11.5s\n",
      "50:\tlearn: 0.2633446\ttest: 0.6264037\tbest: 0.6376572 (35)\ttotal: 3.78s\tremaining: 10.3s\n",
      "60:\tlearn: 0.3386659\ttest: 0.6008504\tbest: 0.6376572 (35)\ttotal: 4.44s\tremaining: 9.4s\n",
      "70:\tlearn: 0.3964974\ttest: 0.5820212\tbest: 0.6376572 (35)\ttotal: 5.1s\tremaining: 8.54s\n",
      "80:\tlearn: 0.4335439\ttest: 0.5665691\tbest: 0.6376572 (35)\ttotal: 5.75s\tremaining: 7.74s\n",
      "90:\tlearn: 0.4610003\ttest: 0.5917978\tbest: 0.6376572 (35)\ttotal: 6.42s\tremaining: 6.98s\n",
      "100:\tlearn: 0.4997514\ttest: 0.6052057\tbest: 0.6376572 (35)\ttotal: 7.12s\tremaining: 6.28s\n",
      "110:\tlearn: 0.5626502\ttest: 0.5896881\tbest: 0.6376572 (35)\ttotal: 8.05s\tremaining: 5.73s\n",
      "120:\tlearn: 0.6138868\ttest: 0.6069015\tbest: 0.6376572 (35)\ttotal: 8.7s\tremaining: 4.96s\n",
      "130:\tlearn: 0.6469231\ttest: 0.6221551\tbest: 0.6376572 (35)\ttotal: 9.39s\tremaining: 4.23s\n",
      "140:\tlearn: 0.6731687\ttest: 0.6215742\tbest: 0.6376572 (35)\ttotal: 10.2s\tremaining: 3.53s\n",
      "150:\tlearn: 0.7103224\ttest: 0.6352757\tbest: 0.6405375 (148)\ttotal: 13.5s\tremaining: 3.49s\n",
      "160:\tlearn: 0.7519654\ttest: 0.6108222\tbest: 0.6405375 (148)\ttotal: 14.3s\tremaining: 2.57s\n",
      "170:\tlearn: 0.7761970\ttest: 0.5943461\tbest: 0.6405375 (148)\ttotal: 15s\tremaining: 1.66s\n",
      "180:\tlearn: 0.7973800\ttest: 0.5856898\tbest: 0.6405375 (148)\ttotal: 16.9s\tremaining: 839ms\n",
      "189:\tlearn: 0.8101243\ttest: 0.5691032\tbest: 0.6405375 (148)\ttotal: 17.5s\tremaining: 0us\n",
      "\n",
      "bestTest = 0.6405374583\n",
      "bestIteration = 148\n",
      "\n",
      "Shrink model to first 149 iterations.\n",
      "Feature #23 eliminated\n",
      "Feature #2 eliminated\n",
      "Step #4 out of 5\n",
      "0:\tlearn: 0.0403149\ttest: 0.1400277\tbest: 0.1400277 (0)\ttotal: 97.4ms\tremaining: 18.4s\n",
      "10:\tlearn: 0.1440822\ttest: 0.5266109\tbest: 0.5270503 (9)\ttotal: 5.76s\tremaining: 1m 33s\n",
      "20:\tlearn: 0.1971045\ttest: 0.5832630\tbest: 0.5874649 (14)\ttotal: 15s\tremaining: 2m\n",
      "30:\tlearn: 0.2321572\ttest: 0.6507527\tbest: 0.6552275 (27)\ttotal: 20.7s\tremaining: 1m 46s\n",
      "40:\tlearn: 0.2666126\ttest: 0.6909151\tbest: 0.6918020 (39)\ttotal: 22.9s\tremaining: 1m 23s\n",
      "50:\tlearn: 0.2929792\ttest: 0.7048199\tbest: 0.7055884 (41)\ttotal: 24.3s\tremaining: 1m 6s\n",
      "60:\tlearn: 0.3005494\ttest: 0.7138618\tbest: 0.7139177 (59)\ttotal: 25.4s\tremaining: 53.8s\n",
      "70:\tlearn: 0.3071060\ttest: 0.7173236\tbest: 0.7200482 (65)\ttotal: 26.6s\tremaining: 44.6s\n",
      "80:\tlearn: 0.3202195\ttest: 0.7227986\tbest: 0.7228637 (78)\ttotal: 27.9s\tremaining: 37.5s\n",
      "90:\tlearn: 0.4130916\ttest: 0.7230184\tbest: 0.7234024 (85)\ttotal: 29.8s\tremaining: 32.4s\n",
      "100:\tlearn: 0.5037442\ttest: 0.7242997\tbest: 0.7274452 (92)\ttotal: 31s\tremaining: 27.3s\n",
      "110:\tlearn: 0.5269492\ttest: 0.7362661\tbest: 0.7385870 (103)\ttotal: 32.1s\tremaining: 22.9s\n",
      "120:\tlearn: 0.5636422\ttest: 0.7335931\tbest: 0.7385870 (103)\ttotal: 33.9s\tremaining: 19.3s\n",
      "130:\tlearn: 0.6235869\ttest: 0.7341532\tbest: 0.7447212 (124)\ttotal: 35.9s\tremaining: 16.2s\n",
      "140:\tlearn: 0.6547939\ttest: 0.7192317\tbest: 0.7447212 (124)\ttotal: 36.9s\tremaining: 12.8s\n",
      "150:\tlearn: 0.6984632\ttest: 0.7046278\tbest: 0.7447212 (124)\ttotal: 37.9s\tremaining: 9.79s\n",
      "160:\tlearn: 0.7308913\ttest: 0.7032647\tbest: 0.7447212 (124)\ttotal: 39s\tremaining: 7.02s\n",
      "170:\tlearn: 0.7537019\ttest: 0.6954788\tbest: 0.7447212 (124)\ttotal: 39.9s\tremaining: 4.43s\n",
      "180:\tlearn: 0.7703914\ttest: 0.6896041\tbest: 0.7447212 (124)\ttotal: 40.9s\tremaining: 2.03s\n",
      "189:\tlearn: 0.7805860\ttest: 0.6880201\tbest: 0.7447212 (124)\ttotal: 41.9s\tremaining: 0us\n",
      "\n",
      "bestTest = 0.744721244\n",
      "bestIteration = 124\n",
      "\n",
      "Shrink model to first 125 iterations.\n",
      "Feature #0 eliminated\n",
      "Feature #3 eliminated\n",
      "Step #5 out of 5\n",
      "0:\tlearn: 0.0227189\ttest: 0.1021001\tbest: 0.1021001 (0)\ttotal: 126ms\tremaining: 23.8s\n",
      "10:\tlearn: 0.1366484\ttest: 0.5684957\tbest: 0.5721162 (8)\ttotal: 1.58s\tremaining: 25.7s\n",
      "20:\tlearn: 0.1492852\ttest: 0.6190097\tbest: 0.6190097 (20)\ttotal: 3.52s\tremaining: 28.3s\n",
      "30:\tlearn: 0.2060248\ttest: 0.6381811\tbest: 0.6427100 (24)\ttotal: 5.3s\tremaining: 27.2s\n",
      "40:\tlearn: 0.2445062\ttest: 0.6831430\tbest: 0.6860100 (35)\ttotal: 6.45s\tremaining: 23.4s\n",
      "50:\tlearn: 0.2818992\ttest: 0.7129763\tbest: 0.7138695 (48)\ttotal: 7.56s\tremaining: 20.6s\n"
     ]
    },
    {
     "name": "stdout",
     "output_type": "stream",
     "text": [
      "60:\tlearn: 0.3017870\ttest: 0.7144310\tbest: 0.7176973 (57)\ttotal: 8.42s\tremaining: 17.8s\n",
      "70:\tlearn: 0.3267926\ttest: 0.7108772\tbest: 0.7176973 (57)\ttotal: 11s\tremaining: 18.4s\n",
      "80:\tlearn: 0.4326740\ttest: 0.7016329\tbest: 0.7176973 (57)\ttotal: 17.7s\tremaining: 23.8s\n",
      "90:\tlearn: 0.4679427\ttest: 0.6795816\tbest: 0.7176973 (57)\ttotal: 18.7s\tremaining: 20.4s\n",
      "100:\tlearn: 0.4778203\ttest: 0.6792621\tbest: 0.7176973 (57)\ttotal: 19.6s\tremaining: 17.3s\n",
      "110:\tlearn: 0.5092888\ttest: 0.6736994\tbest: 0.7176973 (57)\ttotal: 20.8s\tremaining: 14.8s\n",
      "120:\tlearn: 0.5204360\ttest: 0.6733510\tbest: 0.7176973 (57)\ttotal: 21.9s\tremaining: 12.5s\n",
      "130:\tlearn: 0.5411036\ttest: 0.6943799\tbest: 0.7176973 (57)\ttotal: 23s\tremaining: 10.4s\n",
      "140:\tlearn: 0.5668659\ttest: 0.6909744\tbest: 0.7176973 (57)\ttotal: 25.4s\tremaining: 8.82s\n",
      "150:\tlearn: 0.6316878\ttest: 0.6773333\tbest: 0.7176973 (57)\ttotal: 26.2s\tremaining: 6.76s\n",
      "160:\tlearn: 0.6604154\ttest: 0.6755323\tbest: 0.7176973 (57)\ttotal: 27.1s\tremaining: 4.89s\n",
      "170:\tlearn: 0.6871672\ttest: 0.6706385\tbest: 0.7176973 (57)\ttotal: 27.9s\tremaining: 3.1s\n",
      "180:\tlearn: 0.7068027\ttest: 0.6707506\tbest: 0.7176973 (57)\ttotal: 28.7s\tremaining: 1.43s\n",
      "189:\tlearn: 0.7237513\ttest: 0.6646559\tbest: 0.7176973 (57)\ttotal: 29.5s\tremaining: 0us\n",
      "\n",
      "bestTest = 0.7176973349\n",
      "bestIteration = 57\n",
      "\n",
      "Shrink model to first 58 iterations.\n",
      "Feature #14 eliminated\n",
      "Feature #19 eliminated\n",
      "Train final model\n",
      "0:\tlearn: 0.0335786\ttest: 0.1546575\tbest: 0.1546575 (0)\ttotal: 132ms\tremaining: 24.9s\n",
      "10:\tlearn: 0.1094020\ttest: 0.4220893\tbest: 0.4227263 (8)\ttotal: 1.2s\tremaining: 19.5s\n",
      "20:\tlearn: 0.1347083\ttest: 0.5573628\tbest: 0.5573628 (20)\ttotal: 2.42s\tremaining: 19.5s\n",
      "30:\tlearn: 0.1514947\ttest: 0.5569523\tbest: 0.5577542 (28)\ttotal: 4.37s\tremaining: 22.4s\n",
      "40:\tlearn: 0.1919727\ttest: 0.5834517\tbest: 0.5834517 (40)\ttotal: 5.16s\tremaining: 18.7s\n",
      "50:\tlearn: 0.2411742\ttest: 0.7020626\tbest: 0.7031569 (47)\ttotal: 5.81s\tremaining: 15.8s\n",
      "60:\tlearn: 0.2715080\ttest: 0.6935623\tbest: 0.7031569 (47)\ttotal: 6.48s\tremaining: 13.7s\n",
      "70:\tlearn: 0.2891423\ttest: 0.7202134\tbest: 0.7202134 (70)\ttotal: 7.32s\tremaining: 12.3s\n",
      "80:\tlearn: 0.3505043\ttest: 0.7313564\tbest: 0.7313564 (80)\ttotal: 8.62s\tremaining: 11.6s\n",
      "90:\tlearn: 0.4164416\ttest: 0.7480564\tbest: 0.7483644 (89)\ttotal: 11.8s\tremaining: 12.8s\n",
      "100:\tlearn: 0.4708180\ttest: 0.7468575\tbest: 0.7496145 (96)\ttotal: 12.6s\tremaining: 11.1s\n",
      "110:\tlearn: 0.4809887\ttest: 0.7473784\tbest: 0.7496145 (96)\ttotal: 13.4s\tremaining: 9.53s\n",
      "120:\tlearn: 0.5093912\ttest: 0.7547994\tbest: 0.7551568 (117)\ttotal: 14.2s\tremaining: 8.1s\n",
      "130:\tlearn: 0.5516077\ttest: 0.7368503\tbest: 0.7551568 (117)\ttotal: 15s\tremaining: 6.77s\n",
      "140:\tlearn: 0.5696322\ttest: 0.7372951\tbest: 0.7551568 (117)\ttotal: 16s\tremaining: 5.58s\n",
      "150:\tlearn: 0.5711720\ttest: 0.7347515\tbest: 0.7551568 (117)\ttotal: 16.7s\tremaining: 4.32s\n",
      "160:\tlearn: 0.5821884\ttest: 0.7299558\tbest: 0.7551568 (117)\ttotal: 17.5s\tremaining: 3.15s\n",
      "170:\tlearn: 0.6046833\ttest: 0.7380796\tbest: 0.7551568 (117)\ttotal: 18.2s\tremaining: 2.03s\n",
      "180:\tlearn: 0.6124513\ttest: 0.7359616\tbest: 0.7551568 (117)\ttotal: 19.3s\tremaining: 961ms\n",
      "189:\tlearn: 0.6179172\ttest: 0.7336127\tbest: 0.7551568 (117)\ttotal: 20.2s\tremaining: 0us\n",
      "\n",
      "bestTest = 0.7551568205\n",
      "bestIteration = 117\n",
      "\n",
      "Shrink model to first 118 iterations.\n"
     ]
    },
    {
     "data": {
      "application/vnd.plotly.v1+json": {
       "config": {
        "plotlyServerURL": "https://plot.ly"
       },
       "data": [
        {
         "line": {
          "color": "rgb(51,160,44)"
         },
         "mode": "lines+markers",
         "name": "",
         "text": [
          "",
          "reviews_per_month",
          "busy",
          "bathrooms_shared",
          "accommodates",
          "beds",
          "availability_30",
          "sentiment_score",
          "in_season",
          "minimum_nights",
          "weekend",
          "host_is_superhost",
          "instant_bookable"
         ],
         "type": "scatter",
         "x": [
          0,
          1,
          2,
          3,
          4,
          5,
          6,
          7,
          8,
          9,
          10,
          11,
          12
         ],
         "y": [
          12124.30261623468,
          11357.206187599586,
          10987.496446379038,
          10955.86425507279,
          10952.463933566183,
          10948.32109002555,
          10945.17665704305,
          9554.535155845782,
          9223.660145238948,
          9637.273642512422,
          9699.591500314033,
          9323.884942331111,
          9033.165360312054
         ]
        },
        {
         "marker": {
          "size": 10,
          "symbol": "square"
         },
         "mode": "markers",
         "name": "",
         "text": [
          "",
          "bathrooms_shared",
          "availability_30",
          "in_season",
          "weekend",
          "instant_bookable"
         ],
         "type": "scatter",
         "x": [
          0,
          3,
          6,
          8,
          10,
          12
         ],
         "y": [
          12124.30261623468,
          10955.86425507279,
          10945.17665704305,
          9223.660145238948,
          9699.591500314033,
          9033.165360312054
         ]
        },
        {
         "mode": "text",
         "name": "",
         "text": [
          "",
          "18",
          "5",
          "11",
          "8",
          "10",
          "22",
          "23",
          "2",
          "0",
          "3",
          "14",
          "19"
         ],
         "textfont": {
          "color": "rgb(51,160,44)",
          "family": "sans serif",
          "size": 18
         },
         "textposition": "bottom center",
         "type": "scatter",
         "visible": false,
         "x": [
          0,
          1,
          2,
          3,
          4,
          5,
          6,
          7,
          8,
          9,
          10,
          11,
          12
         ],
         "y": [
          12124.30261623468,
          11357.206187599586,
          10987.496446379038,
          10955.86425507279,
          10952.463933566183,
          10948.32109002555,
          10945.17665704305,
          9554.535155845782,
          9223.660145238948,
          9637.273642512422,
          9699.591500314033,
          9323.884942331111,
          9033.165360312054
         ]
        },
        {
         "mode": "text",
         "name": "",
         "text": [
          "",
          "reviews_per_month",
          "busy",
          "bathrooms_shared",
          "accommodates",
          "beds",
          "availability_30",
          "sentiment_score",
          "in_season",
          "minimum_nights",
          "weekend",
          "host_is_superhost",
          "instant_bookable"
         ],
         "textfont": {
          "color": "rgb(51,160,44)",
          "family": "sans serif",
          "size": 18
         },
         "textposition": "bottom center",
         "type": "scatter",
         "visible": false,
         "x": [
          0,
          1,
          2,
          3,
          4,
          5,
          6,
          7,
          8,
          9,
          10,
          11,
          12
         ],
         "y": [
          12124.30261623468,
          11357.206187599586,
          10987.496446379038,
          10955.86425507279,
          10952.463933566183,
          10948.32109002555,
          10945.17665704305,
          9554.535155845782,
          9223.660145238948,
          9637.273642512422,
          9699.591500314033,
          9323.884942331111,
          9033.165360312054
         ]
        }
       ],
       "layout": {
        "showlegend": false,
        "template": {
         "data": {
          "bar": [
           {
            "error_x": {
             "color": "#2a3f5f"
            },
            "error_y": {
             "color": "#2a3f5f"
            },
            "marker": {
             "line": {
              "color": "#E5ECF6",
              "width": 0.5
             },
             "pattern": {
              "fillmode": "overlay",
              "size": 10,
              "solidity": 0.2
             }
            },
            "type": "bar"
           }
          ],
          "barpolar": [
           {
            "marker": {
             "line": {
              "color": "#E5ECF6",
              "width": 0.5
             },
             "pattern": {
              "fillmode": "overlay",
              "size": 10,
              "solidity": 0.2
             }
            },
            "type": "barpolar"
           }
          ],
          "carpet": [
           {
            "aaxis": {
             "endlinecolor": "#2a3f5f",
             "gridcolor": "white",
             "linecolor": "white",
             "minorgridcolor": "white",
             "startlinecolor": "#2a3f5f"
            },
            "baxis": {
             "endlinecolor": "#2a3f5f",
             "gridcolor": "white",
             "linecolor": "white",
             "minorgridcolor": "white",
             "startlinecolor": "#2a3f5f"
            },
            "type": "carpet"
           }
          ],
          "choropleth": [
           {
            "colorbar": {
             "outlinewidth": 0,
             "ticks": ""
            },
            "type": "choropleth"
           }
          ],
          "contour": [
           {
            "colorbar": {
             "outlinewidth": 0,
             "ticks": ""
            },
            "colorscale": [
             [
              0,
              "#0d0887"
             ],
             [
              0.1111111111111111,
              "#46039f"
             ],
             [
              0.2222222222222222,
              "#7201a8"
             ],
             [
              0.3333333333333333,
              "#9c179e"
             ],
             [
              0.4444444444444444,
              "#bd3786"
             ],
             [
              0.5555555555555556,
              "#d8576b"
             ],
             [
              0.6666666666666666,
              "#ed7953"
             ],
             [
              0.7777777777777778,
              "#fb9f3a"
             ],
             [
              0.8888888888888888,
              "#fdca26"
             ],
             [
              1,
              "#f0f921"
             ]
            ],
            "type": "contour"
           }
          ],
          "contourcarpet": [
           {
            "colorbar": {
             "outlinewidth": 0,
             "ticks": ""
            },
            "type": "contourcarpet"
           }
          ],
          "heatmap": [
           {
            "colorbar": {
             "outlinewidth": 0,
             "ticks": ""
            },
            "colorscale": [
             [
              0,
              "#0d0887"
             ],
             [
              0.1111111111111111,
              "#46039f"
             ],
             [
              0.2222222222222222,
              "#7201a8"
             ],
             [
              0.3333333333333333,
              "#9c179e"
             ],
             [
              0.4444444444444444,
              "#bd3786"
             ],
             [
              0.5555555555555556,
              "#d8576b"
             ],
             [
              0.6666666666666666,
              "#ed7953"
             ],
             [
              0.7777777777777778,
              "#fb9f3a"
             ],
             [
              0.8888888888888888,
              "#fdca26"
             ],
             [
              1,
              "#f0f921"
             ]
            ],
            "type": "heatmap"
           }
          ],
          "heatmapgl": [
           {
            "colorbar": {
             "outlinewidth": 0,
             "ticks": ""
            },
            "colorscale": [
             [
              0,
              "#0d0887"
             ],
             [
              0.1111111111111111,
              "#46039f"
             ],
             [
              0.2222222222222222,
              "#7201a8"
             ],
             [
              0.3333333333333333,
              "#9c179e"
             ],
             [
              0.4444444444444444,
              "#bd3786"
             ],
             [
              0.5555555555555556,
              "#d8576b"
             ],
             [
              0.6666666666666666,
              "#ed7953"
             ],
             [
              0.7777777777777778,
              "#fb9f3a"
             ],
             [
              0.8888888888888888,
              "#fdca26"
             ],
             [
              1,
              "#f0f921"
             ]
            ],
            "type": "heatmapgl"
           }
          ],
          "histogram": [
           {
            "marker": {
             "pattern": {
              "fillmode": "overlay",
              "size": 10,
              "solidity": 0.2
             }
            },
            "type": "histogram"
           }
          ],
          "histogram2d": [
           {
            "colorbar": {
             "outlinewidth": 0,
             "ticks": ""
            },
            "colorscale": [
             [
              0,
              "#0d0887"
             ],
             [
              0.1111111111111111,
              "#46039f"
             ],
             [
              0.2222222222222222,
              "#7201a8"
             ],
             [
              0.3333333333333333,
              "#9c179e"
             ],
             [
              0.4444444444444444,
              "#bd3786"
             ],
             [
              0.5555555555555556,
              "#d8576b"
             ],
             [
              0.6666666666666666,
              "#ed7953"
             ],
             [
              0.7777777777777778,
              "#fb9f3a"
             ],
             [
              0.8888888888888888,
              "#fdca26"
             ],
             [
              1,
              "#f0f921"
             ]
            ],
            "type": "histogram2d"
           }
          ],
          "histogram2dcontour": [
           {
            "colorbar": {
             "outlinewidth": 0,
             "ticks": ""
            },
            "colorscale": [
             [
              0,
              "#0d0887"
             ],
             [
              0.1111111111111111,
              "#46039f"
             ],
             [
              0.2222222222222222,
              "#7201a8"
             ],
             [
              0.3333333333333333,
              "#9c179e"
             ],
             [
              0.4444444444444444,
              "#bd3786"
             ],
             [
              0.5555555555555556,
              "#d8576b"
             ],
             [
              0.6666666666666666,
              "#ed7953"
             ],
             [
              0.7777777777777778,
              "#fb9f3a"
             ],
             [
              0.8888888888888888,
              "#fdca26"
             ],
             [
              1,
              "#f0f921"
             ]
            ],
            "type": "histogram2dcontour"
           }
          ],
          "mesh3d": [
           {
            "colorbar": {
             "outlinewidth": 0,
             "ticks": ""
            },
            "type": "mesh3d"
           }
          ],
          "parcoords": [
           {
            "line": {
             "colorbar": {
              "outlinewidth": 0,
              "ticks": ""
             }
            },
            "type": "parcoords"
           }
          ],
          "pie": [
           {
            "automargin": true,
            "type": "pie"
           }
          ],
          "scatter": [
           {
            "fillpattern": {
             "fillmode": "overlay",
             "size": 10,
             "solidity": 0.2
            },
            "type": "scatter"
           }
          ],
          "scatter3d": [
           {
            "line": {
             "colorbar": {
              "outlinewidth": 0,
              "ticks": ""
             }
            },
            "marker": {
             "colorbar": {
              "outlinewidth": 0,
              "ticks": ""
             }
            },
            "type": "scatter3d"
           }
          ],
          "scattercarpet": [
           {
            "marker": {
             "colorbar": {
              "outlinewidth": 0,
              "ticks": ""
             }
            },
            "type": "scattercarpet"
           }
          ],
          "scattergeo": [
           {
            "marker": {
             "colorbar": {
              "outlinewidth": 0,
              "ticks": ""
             }
            },
            "type": "scattergeo"
           }
          ],
          "scattergl": [
           {
            "marker": {
             "colorbar": {
              "outlinewidth": 0,
              "ticks": ""
             }
            },
            "type": "scattergl"
           }
          ],
          "scattermapbox": [
           {
            "marker": {
             "colorbar": {
              "outlinewidth": 0,
              "ticks": ""
             }
            },
            "type": "scattermapbox"
           }
          ],
          "scatterpolar": [
           {
            "marker": {
             "colorbar": {
              "outlinewidth": 0,
              "ticks": ""
             }
            },
            "type": "scatterpolar"
           }
          ],
          "scatterpolargl": [
           {
            "marker": {
             "colorbar": {
              "outlinewidth": 0,
              "ticks": ""
             }
            },
            "type": "scatterpolargl"
           }
          ],
          "scatterternary": [
           {
            "marker": {
             "colorbar": {
              "outlinewidth": 0,
              "ticks": ""
             }
            },
            "type": "scatterternary"
           }
          ],
          "surface": [
           {
            "colorbar": {
             "outlinewidth": 0,
             "ticks": ""
            },
            "colorscale": [
             [
              0,
              "#0d0887"
             ],
             [
              0.1111111111111111,
              "#46039f"
             ],
             [
              0.2222222222222222,
              "#7201a8"
             ],
             [
              0.3333333333333333,
              "#9c179e"
             ],
             [
              0.4444444444444444,
              "#bd3786"
             ],
             [
              0.5555555555555556,
              "#d8576b"
             ],
             [
              0.6666666666666666,
              "#ed7953"
             ],
             [
              0.7777777777777778,
              "#fb9f3a"
             ],
             [
              0.8888888888888888,
              "#fdca26"
             ],
             [
              1,
              "#f0f921"
             ]
            ],
            "type": "surface"
           }
          ],
          "table": [
           {
            "cells": {
             "fill": {
              "color": "#EBF0F8"
             },
             "line": {
              "color": "white"
             }
            },
            "header": {
             "fill": {
              "color": "#C8D4E3"
             },
             "line": {
              "color": "white"
             }
            },
            "type": "table"
           }
          ]
         },
         "layout": {
          "annotationdefaults": {
           "arrowcolor": "#2a3f5f",
           "arrowhead": 0,
           "arrowwidth": 1
          },
          "autotypenumbers": "strict",
          "coloraxis": {
           "colorbar": {
            "outlinewidth": 0,
            "ticks": ""
           }
          },
          "colorscale": {
           "diverging": [
            [
             0,
             "#8e0152"
            ],
            [
             0.1,
             "#c51b7d"
            ],
            [
             0.2,
             "#de77ae"
            ],
            [
             0.3,
             "#f1b6da"
            ],
            [
             0.4,
             "#fde0ef"
            ],
            [
             0.5,
             "#f7f7f7"
            ],
            [
             0.6,
             "#e6f5d0"
            ],
            [
             0.7,
             "#b8e186"
            ],
            [
             0.8,
             "#7fbc41"
            ],
            [
             0.9,
             "#4d9221"
            ],
            [
             1,
             "#276419"
            ]
           ],
           "sequential": [
            [
             0,
             "#0d0887"
            ],
            [
             0.1111111111111111,
             "#46039f"
            ],
            [
             0.2222222222222222,
             "#7201a8"
            ],
            [
             0.3333333333333333,
             "#9c179e"
            ],
            [
             0.4444444444444444,
             "#bd3786"
            ],
            [
             0.5555555555555556,
             "#d8576b"
            ],
            [
             0.6666666666666666,
             "#ed7953"
            ],
            [
             0.7777777777777778,
             "#fb9f3a"
            ],
            [
             0.8888888888888888,
             "#fdca26"
            ],
            [
             1,
             "#f0f921"
            ]
           ],
           "sequentialminus": [
            [
             0,
             "#0d0887"
            ],
            [
             0.1111111111111111,
             "#46039f"
            ],
            [
             0.2222222222222222,
             "#7201a8"
            ],
            [
             0.3333333333333333,
             "#9c179e"
            ],
            [
             0.4444444444444444,
             "#bd3786"
            ],
            [
             0.5555555555555556,
             "#d8576b"
            ],
            [
             0.6666666666666666,
             "#ed7953"
            ],
            [
             0.7777777777777778,
             "#fb9f3a"
            ],
            [
             0.8888888888888888,
             "#fdca26"
            ],
            [
             1,
             "#f0f921"
            ]
           ]
          },
          "colorway": [
           "#636efa",
           "#EF553B",
           "#00cc96",
           "#ab63fa",
           "#FFA15A",
           "#19d3f3",
           "#FF6692",
           "#B6E880",
           "#FF97FF",
           "#FECB52"
          ],
          "font": {
           "color": "#2a3f5f"
          },
          "geo": {
           "bgcolor": "white",
           "lakecolor": "white",
           "landcolor": "#E5ECF6",
           "showlakes": true,
           "showland": true,
           "subunitcolor": "white"
          },
          "hoverlabel": {
           "align": "left"
          },
          "hovermode": "closest",
          "mapbox": {
           "style": "light"
          },
          "paper_bgcolor": "white",
          "plot_bgcolor": "#E5ECF6",
          "polar": {
           "angularaxis": {
            "gridcolor": "white",
            "linecolor": "white",
            "ticks": ""
           },
           "bgcolor": "#E5ECF6",
           "radialaxis": {
            "gridcolor": "white",
            "linecolor": "white",
            "ticks": ""
           }
          },
          "scene": {
           "xaxis": {
            "backgroundcolor": "#E5ECF6",
            "gridcolor": "white",
            "gridwidth": 2,
            "linecolor": "white",
            "showbackground": true,
            "ticks": "",
            "zerolinecolor": "white"
           },
           "yaxis": {
            "backgroundcolor": "#E5ECF6",
            "gridcolor": "white",
            "gridwidth": 2,
            "linecolor": "white",
            "showbackground": true,
            "ticks": "",
            "zerolinecolor": "white"
           },
           "zaxis": {
            "backgroundcolor": "#E5ECF6",
            "gridcolor": "white",
            "gridwidth": 2,
            "linecolor": "white",
            "showbackground": true,
            "ticks": "",
            "zerolinecolor": "white"
           }
          },
          "shapedefaults": {
           "line": {
            "color": "#2a3f5f"
           }
          },
          "ternary": {
           "aaxis": {
            "gridcolor": "white",
            "linecolor": "white",
            "ticks": ""
           },
           "baxis": {
            "gridcolor": "white",
            "linecolor": "white",
            "ticks": ""
           },
           "bgcolor": "#E5ECF6",
           "caxis": {
            "gridcolor": "white",
            "linecolor": "white",
            "ticks": ""
           }
          },
          "title": {
           "x": 0.05
          },
          "xaxis": {
           "automargin": true,
           "gridcolor": "white",
           "linecolor": "white",
           "ticks": "",
           "title": {
            "standoff": 15
           },
           "zerolinecolor": "white",
           "zerolinewidth": 2
          },
          "yaxis": {
           "automargin": true,
           "gridcolor": "white",
           "linecolor": "white",
           "ticks": "",
           "title": {
            "standoff": 15
           },
           "zerolinecolor": "white",
           "zerolinewidth": 2
          }
         }
        },
        "title": {
         "text": "Loss by eliminated features"
        },
        "updatemenus": [
         {
          "active": 0,
          "buttons": [
           {
            "args": [
             {
              "visible": [
               true,
               true,
               false,
               false
              ]
             }
            ],
            "label": "Hide features",
            "method": "update"
           },
           {
            "args": [
             {
              "visible": [
               true,
               true,
               true,
               false
              ]
             }
            ],
            "label": "Show indices",
            "method": "update"
           },
           {
            "args": [
             {
              "visible": [
               true,
               true,
               false,
               true
              ]
             }
            ],
            "label": "Show names",
            "method": "update"
           }
          ],
          "pad": {
           "r": 10,
           "t": 10
          },
          "showactive": true,
          "x": -0.25,
          "xanchor": "left",
          "y": 1.03,
          "yanchor": "top"
         }
        ],
        "xaxis": {
         "gridcolor": "rgb(255,255,255)",
         "showgrid": true,
         "showline": false,
         "showticklabels": true,
         "tickcolor": "rgb(127,127,127)",
         "ticks": "outside",
         "title": {
          "text": "number of removed features"
         },
         "zeroline": false
        },
        "yaxis": {
         "gridcolor": "rgb(255,255,255)",
         "showgrid": true,
         "showline": false,
         "showticklabels": true,
         "tickcolor": "rgb(127,127,127)",
         "tickfont": {
          "color": "rgb(51,160,44)"
         },
         "ticks": "outside",
         "title": {
          "font": {
           "color": "rgb(51,160,44)"
          },
          "text": "loss value"
         },
         "zeroline": false
        }
       }
      },
      "text/html": [
       "<div>                            <div id=\"b717cba8-b0a9-4a8e-b40f-afcbefb552ed\" class=\"plotly-graph-div\" style=\"height:525px; width:100%;\"></div>            <script type=\"text/javascript\">                require([\"plotly\"], function(Plotly) {                    window.PLOTLYENV=window.PLOTLYENV || {};                                    if (document.getElementById(\"b717cba8-b0a9-4a8e-b40f-afcbefb552ed\")) {                    Plotly.newPlot(                        \"b717cba8-b0a9-4a8e-b40f-afcbefb552ed\",                        [{\"line\":{\"color\":\"rgb(51,160,44)\"},\"mode\":\"lines+markers\",\"name\":\"\",\"text\":[\"\",\"reviews_per_month\",\"busy\",\"bathrooms_shared\",\"accommodates\",\"beds\",\"availability_30\",\"sentiment_score\",\"in_season\",\"minimum_nights\",\"weekend\",\"host_is_superhost\",\"instant_bookable\"],\"x\":[0,1,2,3,4,5,6,7,8,9,10,11,12],\"y\":[12124.30261623468,11357.206187599586,10987.496446379038,10955.86425507279,10952.463933566183,10948.32109002555,10945.17665704305,9554.535155845782,9223.660145238948,9637.273642512422,9699.591500314033,9323.884942331111,9033.165360312054],\"type\":\"scatter\"},{\"marker\":{\"size\":10,\"symbol\":\"square\"},\"mode\":\"markers\",\"name\":\"\",\"text\":[\"\",\"bathrooms_shared\",\"availability_30\",\"in_season\",\"weekend\",\"instant_bookable\"],\"x\":[0,3,6,8,10,12],\"y\":[12124.30261623468,10955.86425507279,10945.17665704305,9223.660145238948,9699.591500314033,9033.165360312054],\"type\":\"scatter\"},{\"mode\":\"text\",\"name\":\"\",\"text\":[\"\",\"18\",\"5\",\"11\",\"8\",\"10\",\"22\",\"23\",\"2\",\"0\",\"3\",\"14\",\"19\"],\"textfont\":{\"color\":\"rgb(51,160,44)\",\"family\":\"sans serif\",\"size\":18},\"textposition\":\"bottom center\",\"visible\":false,\"x\":[0,1,2,3,4,5,6,7,8,9,10,11,12],\"y\":[12124.30261623468,11357.206187599586,10987.496446379038,10955.86425507279,10952.463933566183,10948.32109002555,10945.17665704305,9554.535155845782,9223.660145238948,9637.273642512422,9699.591500314033,9323.884942331111,9033.165360312054],\"type\":\"scatter\"},{\"mode\":\"text\",\"name\":\"\",\"text\":[\"\",\"reviews_per_month\",\"busy\",\"bathrooms_shared\",\"accommodates\",\"beds\",\"availability_30\",\"sentiment_score\",\"in_season\",\"minimum_nights\",\"weekend\",\"host_is_superhost\",\"instant_bookable\"],\"textfont\":{\"color\":\"rgb(51,160,44)\",\"family\":\"sans serif\",\"size\":18},\"textposition\":\"bottom center\",\"visible\":false,\"x\":[0,1,2,3,4,5,6,7,8,9,10,11,12],\"y\":[12124.30261623468,11357.206187599586,10987.496446379038,10955.86425507279,10952.463933566183,10948.32109002555,10945.17665704305,9554.535155845782,9223.660145238948,9637.273642512422,9699.591500314033,9323.884942331111,9033.165360312054],\"type\":\"scatter\"}],                        {\"template\":{\"data\":{\"histogram2dcontour\":[{\"type\":\"histogram2dcontour\",\"colorbar\":{\"outlinewidth\":0,\"ticks\":\"\"},\"colorscale\":[[0.0,\"#0d0887\"],[0.1111111111111111,\"#46039f\"],[0.2222222222222222,\"#7201a8\"],[0.3333333333333333,\"#9c179e\"],[0.4444444444444444,\"#bd3786\"],[0.5555555555555556,\"#d8576b\"],[0.6666666666666666,\"#ed7953\"],[0.7777777777777778,\"#fb9f3a\"],[0.8888888888888888,\"#fdca26\"],[1.0,\"#f0f921\"]]}],\"choropleth\":[{\"type\":\"choropleth\",\"colorbar\":{\"outlinewidth\":0,\"ticks\":\"\"}}],\"histogram2d\":[{\"type\":\"histogram2d\",\"colorbar\":{\"outlinewidth\":0,\"ticks\":\"\"},\"colorscale\":[[0.0,\"#0d0887\"],[0.1111111111111111,\"#46039f\"],[0.2222222222222222,\"#7201a8\"],[0.3333333333333333,\"#9c179e\"],[0.4444444444444444,\"#bd3786\"],[0.5555555555555556,\"#d8576b\"],[0.6666666666666666,\"#ed7953\"],[0.7777777777777778,\"#fb9f3a\"],[0.8888888888888888,\"#fdca26\"],[1.0,\"#f0f921\"]]}],\"heatmap\":[{\"type\":\"heatmap\",\"colorbar\":{\"outlinewidth\":0,\"ticks\":\"\"},\"colorscale\":[[0.0,\"#0d0887\"],[0.1111111111111111,\"#46039f\"],[0.2222222222222222,\"#7201a8\"],[0.3333333333333333,\"#9c179e\"],[0.4444444444444444,\"#bd3786\"],[0.5555555555555556,\"#d8576b\"],[0.6666666666666666,\"#ed7953\"],[0.7777777777777778,\"#fb9f3a\"],[0.8888888888888888,\"#fdca26\"],[1.0,\"#f0f921\"]]}],\"heatmapgl\":[{\"type\":\"heatmapgl\",\"colorbar\":{\"outlinewidth\":0,\"ticks\":\"\"},\"colorscale\":[[0.0,\"#0d0887\"],[0.1111111111111111,\"#46039f\"],[0.2222222222222222,\"#7201a8\"],[0.3333333333333333,\"#9c179e\"],[0.4444444444444444,\"#bd3786\"],[0.5555555555555556,\"#d8576b\"],[0.6666666666666666,\"#ed7953\"],[0.7777777777777778,\"#fb9f3a\"],[0.8888888888888888,\"#fdca26\"],[1.0,\"#f0f921\"]]}],\"contourcarpet\":[{\"type\":\"contourcarpet\",\"colorbar\":{\"outlinewidth\":0,\"ticks\":\"\"}}],\"contour\":[{\"type\":\"contour\",\"colorbar\":{\"outlinewidth\":0,\"ticks\":\"\"},\"colorscale\":[[0.0,\"#0d0887\"],[0.1111111111111111,\"#46039f\"],[0.2222222222222222,\"#7201a8\"],[0.3333333333333333,\"#9c179e\"],[0.4444444444444444,\"#bd3786\"],[0.5555555555555556,\"#d8576b\"],[0.6666666666666666,\"#ed7953\"],[0.7777777777777778,\"#fb9f3a\"],[0.8888888888888888,\"#fdca26\"],[1.0,\"#f0f921\"]]}],\"surface\":[{\"type\":\"surface\",\"colorbar\":{\"outlinewidth\":0,\"ticks\":\"\"},\"colorscale\":[[0.0,\"#0d0887\"],[0.1111111111111111,\"#46039f\"],[0.2222222222222222,\"#7201a8\"],[0.3333333333333333,\"#9c179e\"],[0.4444444444444444,\"#bd3786\"],[0.5555555555555556,\"#d8576b\"],[0.6666666666666666,\"#ed7953\"],[0.7777777777777778,\"#fb9f3a\"],[0.8888888888888888,\"#fdca26\"],[1.0,\"#f0f921\"]]}],\"mesh3d\":[{\"type\":\"mesh3d\",\"colorbar\":{\"outlinewidth\":0,\"ticks\":\"\"}}],\"scatter\":[{\"fillpattern\":{\"fillmode\":\"overlay\",\"size\":10,\"solidity\":0.2},\"type\":\"scatter\"}],\"parcoords\":[{\"type\":\"parcoords\",\"line\":{\"colorbar\":{\"outlinewidth\":0,\"ticks\":\"\"}}}],\"scatterpolargl\":[{\"type\":\"scatterpolargl\",\"marker\":{\"colorbar\":{\"outlinewidth\":0,\"ticks\":\"\"}}}],\"bar\":[{\"error_x\":{\"color\":\"#2a3f5f\"},\"error_y\":{\"color\":\"#2a3f5f\"},\"marker\":{\"line\":{\"color\":\"#E5ECF6\",\"width\":0.5},\"pattern\":{\"fillmode\":\"overlay\",\"size\":10,\"solidity\":0.2}},\"type\":\"bar\"}],\"scattergeo\":[{\"type\":\"scattergeo\",\"marker\":{\"colorbar\":{\"outlinewidth\":0,\"ticks\":\"\"}}}],\"scatterpolar\":[{\"type\":\"scatterpolar\",\"marker\":{\"colorbar\":{\"outlinewidth\":0,\"ticks\":\"\"}}}],\"histogram\":[{\"marker\":{\"pattern\":{\"fillmode\":\"overlay\",\"size\":10,\"solidity\":0.2}},\"type\":\"histogram\"}],\"scattergl\":[{\"type\":\"scattergl\",\"marker\":{\"colorbar\":{\"outlinewidth\":0,\"ticks\":\"\"}}}],\"scatter3d\":[{\"type\":\"scatter3d\",\"line\":{\"colorbar\":{\"outlinewidth\":0,\"ticks\":\"\"}},\"marker\":{\"colorbar\":{\"outlinewidth\":0,\"ticks\":\"\"}}}],\"scattermapbox\":[{\"type\":\"scattermapbox\",\"marker\":{\"colorbar\":{\"outlinewidth\":0,\"ticks\":\"\"}}}],\"scatterternary\":[{\"type\":\"scatterternary\",\"marker\":{\"colorbar\":{\"outlinewidth\":0,\"ticks\":\"\"}}}],\"scattercarpet\":[{\"type\":\"scattercarpet\",\"marker\":{\"colorbar\":{\"outlinewidth\":0,\"ticks\":\"\"}}}],\"carpet\":[{\"aaxis\":{\"endlinecolor\":\"#2a3f5f\",\"gridcolor\":\"white\",\"linecolor\":\"white\",\"minorgridcolor\":\"white\",\"startlinecolor\":\"#2a3f5f\"},\"baxis\":{\"endlinecolor\":\"#2a3f5f\",\"gridcolor\":\"white\",\"linecolor\":\"white\",\"minorgridcolor\":\"white\",\"startlinecolor\":\"#2a3f5f\"},\"type\":\"carpet\"}],\"table\":[{\"cells\":{\"fill\":{\"color\":\"#EBF0F8\"},\"line\":{\"color\":\"white\"}},\"header\":{\"fill\":{\"color\":\"#C8D4E3\"},\"line\":{\"color\":\"white\"}},\"type\":\"table\"}],\"barpolar\":[{\"marker\":{\"line\":{\"color\":\"#E5ECF6\",\"width\":0.5},\"pattern\":{\"fillmode\":\"overlay\",\"size\":10,\"solidity\":0.2}},\"type\":\"barpolar\"}],\"pie\":[{\"automargin\":true,\"type\":\"pie\"}]},\"layout\":{\"autotypenumbers\":\"strict\",\"colorway\":[\"#636efa\",\"#EF553B\",\"#00cc96\",\"#ab63fa\",\"#FFA15A\",\"#19d3f3\",\"#FF6692\",\"#B6E880\",\"#FF97FF\",\"#FECB52\"],\"font\":{\"color\":\"#2a3f5f\"},\"hovermode\":\"closest\",\"hoverlabel\":{\"align\":\"left\"},\"paper_bgcolor\":\"white\",\"plot_bgcolor\":\"#E5ECF6\",\"polar\":{\"bgcolor\":\"#E5ECF6\",\"angularaxis\":{\"gridcolor\":\"white\",\"linecolor\":\"white\",\"ticks\":\"\"},\"radialaxis\":{\"gridcolor\":\"white\",\"linecolor\":\"white\",\"ticks\":\"\"}},\"ternary\":{\"bgcolor\":\"#E5ECF6\",\"aaxis\":{\"gridcolor\":\"white\",\"linecolor\":\"white\",\"ticks\":\"\"},\"baxis\":{\"gridcolor\":\"white\",\"linecolor\":\"white\",\"ticks\":\"\"},\"caxis\":{\"gridcolor\":\"white\",\"linecolor\":\"white\",\"ticks\":\"\"}},\"coloraxis\":{\"colorbar\":{\"outlinewidth\":0,\"ticks\":\"\"}},\"colorscale\":{\"sequential\":[[0.0,\"#0d0887\"],[0.1111111111111111,\"#46039f\"],[0.2222222222222222,\"#7201a8\"],[0.3333333333333333,\"#9c179e\"],[0.4444444444444444,\"#bd3786\"],[0.5555555555555556,\"#d8576b\"],[0.6666666666666666,\"#ed7953\"],[0.7777777777777778,\"#fb9f3a\"],[0.8888888888888888,\"#fdca26\"],[1.0,\"#f0f921\"]],\"sequentialminus\":[[0.0,\"#0d0887\"],[0.1111111111111111,\"#46039f\"],[0.2222222222222222,\"#7201a8\"],[0.3333333333333333,\"#9c179e\"],[0.4444444444444444,\"#bd3786\"],[0.5555555555555556,\"#d8576b\"],[0.6666666666666666,\"#ed7953\"],[0.7777777777777778,\"#fb9f3a\"],[0.8888888888888888,\"#fdca26\"],[1.0,\"#f0f921\"]],\"diverging\":[[0,\"#8e0152\"],[0.1,\"#c51b7d\"],[0.2,\"#de77ae\"],[0.3,\"#f1b6da\"],[0.4,\"#fde0ef\"],[0.5,\"#f7f7f7\"],[0.6,\"#e6f5d0\"],[0.7,\"#b8e186\"],[0.8,\"#7fbc41\"],[0.9,\"#4d9221\"],[1,\"#276419\"]]},\"xaxis\":{\"gridcolor\":\"white\",\"linecolor\":\"white\",\"ticks\":\"\",\"title\":{\"standoff\":15},\"zerolinecolor\":\"white\",\"automargin\":true,\"zerolinewidth\":2},\"yaxis\":{\"gridcolor\":\"white\",\"linecolor\":\"white\",\"ticks\":\"\",\"title\":{\"standoff\":15},\"zerolinecolor\":\"white\",\"automargin\":true,\"zerolinewidth\":2},\"scene\":{\"xaxis\":{\"backgroundcolor\":\"#E5ECF6\",\"gridcolor\":\"white\",\"linecolor\":\"white\",\"showbackground\":true,\"ticks\":\"\",\"zerolinecolor\":\"white\",\"gridwidth\":2},\"yaxis\":{\"backgroundcolor\":\"#E5ECF6\",\"gridcolor\":\"white\",\"linecolor\":\"white\",\"showbackground\":true,\"ticks\":\"\",\"zerolinecolor\":\"white\",\"gridwidth\":2},\"zaxis\":{\"backgroundcolor\":\"#E5ECF6\",\"gridcolor\":\"white\",\"linecolor\":\"white\",\"showbackground\":true,\"ticks\":\"\",\"zerolinecolor\":\"white\",\"gridwidth\":2}},\"shapedefaults\":{\"line\":{\"color\":\"#2a3f5f\"}},\"annotationdefaults\":{\"arrowcolor\":\"#2a3f5f\",\"arrowhead\":0,\"arrowwidth\":1},\"geo\":{\"bgcolor\":\"white\",\"landcolor\":\"#E5ECF6\",\"subunitcolor\":\"white\",\"showland\":true,\"showlakes\":true,\"lakecolor\":\"white\"},\"title\":{\"x\":0.05},\"mapbox\":{\"style\":\"light\"}}},\"title\":{\"text\":\"Loss by eliminated features\"},\"xaxis\":{\"title\":{\"text\":\"number of removed features\"},\"gridcolor\":\"rgb(255,255,255)\",\"showgrid\":true,\"showline\":false,\"showticklabels\":true,\"tickcolor\":\"rgb(127,127,127)\",\"ticks\":\"outside\",\"zeroline\":false},\"yaxis\":{\"title\":{\"text\":\"loss value\",\"font\":{\"color\":\"rgb(51,160,44)\"}},\"tickfont\":{\"color\":\"rgb(51,160,44)\"},\"gridcolor\":\"rgb(255,255,255)\",\"showgrid\":true,\"showline\":false,\"showticklabels\":true,\"tickcolor\":\"rgb(127,127,127)\",\"ticks\":\"outside\",\"zeroline\":false},\"updatemenus\":[{\"active\":0,\"buttons\":[{\"args\":[{\"visible\":[true,true,false,false]}],\"label\":\"Hide features\",\"method\":\"update\"},{\"args\":[{\"visible\":[true,true,true,false]}],\"label\":\"Show indices\",\"method\":\"update\"},{\"args\":[{\"visible\":[true,true,false,true]}],\"label\":\"Show names\",\"method\":\"update\"}],\"pad\":{\"r\":10,\"t\":10},\"showactive\":true,\"x\":-0.25,\"xanchor\":\"left\",\"y\":1.03,\"yanchor\":\"top\"}],\"showlegend\":false},                        {\"responsive\": true}                    ).then(function(){\n",
       "                            \n",
       "var gd = document.getElementById('b717cba8-b0a9-4a8e-b40f-afcbefb552ed');\n",
       "var x = new MutationObserver(function (mutations, observer) {{\n",
       "        var display = window.getComputedStyle(gd).display;\n",
       "        if (!display || display === 'none') {{\n",
       "            console.log([gd, 'removed!']);\n",
       "            Plotly.purge(gd);\n",
       "            observer.disconnect();\n",
       "        }}\n",
       "}});\n",
       "\n",
       "// Listen for the removal of the full notebook cells\n",
       "var notebookContainer = gd.closest('#notebook-container');\n",
       "if (notebookContainer) {{\n",
       "    x.observe(notebookContainer, {childList: true});\n",
       "}}\n",
       "\n",
       "// Listen for the clearing of the current output cell\n",
       "var outputEl = gd.closest('.output');\n",
       "if (outputEl) {{\n",
       "    x.observe(outputEl, {childList: true});\n",
       "}}\n",
       "\n",
       "                        })                };                });            </script>        </div>"
      ]
     },
     "metadata": {},
     "output_type": "display_data"
    }
   ],
   "source": [
    "from catboost import CatBoostRegressor\n",
    "regressor = CatBoostRegressor(eval_metric='R2',\n",
    "                              iterations = 190, \n",
    "                              cat_features = categorical_features, \n",
    "                              random_state = 123\n",
    "                              )\n",
    "rfe_dict = regressor.select_features(X = x_train, \n",
    "                                     y = y_train, \n",
    "                                     eval_set = (x_test,y_test), \n",
    "                                     features_for_select = '0-23', \n",
    "                                     num_features_to_select = 12, \n",
    "                                     steps = 5, \n",
    "                                     verbose = 10, #\n",
    "                                     train_final_model = True, \n",
    "                                     plot = True\n",
    "                                     )"
   ]
  },
  {
   "cell_type": "code",
   "execution_count": 103,
   "id": "1481895e",
   "metadata": {},
   "outputs": [
    {
     "name": "stdout",
     "output_type": "stream",
     "text": [
      "R2 on test set: 0.7551568204752718\n"
     ]
    }
   ],
   "source": [
    "y_pred = regressor.predict(x_test)\n",
    "\n",
    "r2_cat = r2_score(y_test, y_pred)\n",
    "print(\"R2 on test set:\", r2_cat)"
   ]
  },
  {
   "cell_type": "code",
   "execution_count": 70,
   "id": "d8cfbb25",
   "metadata": {},
   "outputs": [
    {
     "data": {
      "text/plain": [
       "{'selected_features': [1, 4, 6, 7, 9, 12, 13, 15, 16, 17, 20, 21],\n",
       " 'eliminated_features_names': ['reviews_per_month',\n",
       "  'busy',\n",
       "  'bathrooms_shared',\n",
       "  'accommodates',\n",
       "  'beds',\n",
       "  'availability_30',\n",
       "  'sentiment_score',\n",
       "  'in_season',\n",
       "  'minimum_nights',\n",
       "  'weekend',\n",
       "  'host_is_superhost',\n",
       "  'instant_bookable'],\n",
       " 'loss_graph': {'main_indices': [0, 3, 6, 8, 10, 12],\n",
       "  'removed_features_count': [0, 1, 2, 3, 4, 5, 6, 7, 8, 9, 10, 11, 12],\n",
       "  'loss_values': [12124.30261623468,\n",
       "   11357.206187599586,\n",
       "   10987.496446379038,\n",
       "   10955.86425507279,\n",
       "   10952.463933566183,\n",
       "   10948.32109002555,\n",
       "   10945.17665704305,\n",
       "   9554.535155845782,\n",
       "   9223.660145238948,\n",
       "   9637.273642512422,\n",
       "   9699.591500314033,\n",
       "   9323.884942331111,\n",
       "   9033.165360312054]},\n",
       " 'eliminated_features': [18, 5, 11, 8, 10, 22, 23, 2, 0, 3, 14, 19],\n",
       " 'selected_features_names': ['maximum_nights',\n",
       "  'new_year',\n",
       "  'neighbourhood_cleansed',\n",
       "  'room_type',\n",
       "  'bathrooms_numeric',\n",
       "  'amenities_num',\n",
       "  'host_response_time',\n",
       "  'ranking',\n",
       "  'Distance',\n",
       "  'Verification',\n",
       "  'last_review',\n",
       "  'has_availability']}"
      ]
     },
     "execution_count": 70,
     "metadata": {},
     "output_type": "execute_result"
    }
   ],
   "source": [
    "rfe_dict"
   ]
  },
  {
   "cell_type": "markdown",
   "id": "2bcfb054",
   "metadata": {},
   "source": [
    "### RandomForest\n",
    "\n",
    "#### Evaluation \n",
    "\n",
    "R2 = 40%"
   ]
  },
  {
   "cell_type": "code",
   "execution_count": 116,
   "id": "4bd28800",
   "metadata": {},
   "outputs": [],
   "source": [
    "columns_to_drop=[\"price\"]\n",
    "categorical_features=[\"Verification\",\"has_availability\",\"neighbourhood_cleansed\",\"room_type\"]\n",
    "merged_df=merged_df[['maximum_nights',\n",
    "  'new_year',\n",
    "  'neighbourhood_cleansed',\n",
    "  'room_type',\n",
    "  'bathrooms_numeric',\n",
    "  'amenities_num',\n",
    "  'host_response_time',\n",
    "  'ranking',\n",
    "  'Distance',\n",
    "  'Verification',\n",
    "  'last_review',\n",
    "  'has_availability',\"price\"]]\n",
    "import pandas as pd\n",
    "dummy_df = pd.get_dummies(merged_df, columns=categorical_features)\n",
    "\n",
    "x_train = dummy_df.iloc[-7000:].drop(columns_to_drop, axis=1)\n",
    "y_train = dummy_df.iloc[-7000:]['price']\n",
    "\n",
    "x_test = dummy_df.drop(x_train.index).drop(columns_to_drop, axis=1)\n",
    "\n",
    "y_test = dummy_df.drop(y_train.index)['price']\n"
   ]
  },
  {
   "cell_type": "code",
   "execution_count": 117,
   "id": "453d84b6",
   "metadata": {},
   "outputs": [
    {
     "name": "stdout",
     "output_type": "stream",
     "text": [
      "R2: 0.72\n"
     ]
    }
   ],
   "source": [
    "from sklearn.metrics import r2_score\n",
    "\n",
    "rf_regressor = RandomForestRegressor(n_estimators=100, random_state=42)\n",
    "rf_regressor.fit(x_train, y_train)\n",
    "\n",
    "y_pred = rf_regressor.predict(x_test)\n",
    "\n",
    "r2 = r2_score(y_test, y_pred)\n",
    "print(\"R2: {:.2f}\".format(r2))"
   ]
  },
  {
   "cell_type": "markdown",
   "id": "883d013b",
   "metadata": {},
   "source": [
    "### Linear Regression"
   ]
  },
  {
   "cell_type": "code",
   "execution_count": 118,
   "id": "f25d2065",
   "metadata": {},
   "outputs": [
    {
     "name": "stdout",
     "output_type": "stream",
     "text": [
      "R2: 0.04\n"
     ]
    }
   ],
   "source": [
    "from sklearn.linear_model import LinearRegression\n",
    "\n",
    "linear_regressor = LinearRegression()\n",
    "linear_regressor.fit(x_train, y_train)\n",
    "\n",
    "y_pred_linear = linear_regressor.predict(x_test)\n",
    "\n",
    "r2_linear = r2_score(y_test, y_pred_linear)\n",
    "print(\"R2: {:.2f}\".format(r2_linear))\n"
   ]
  },
  {
   "cell_type": "markdown",
   "id": "2345d1a4",
   "metadata": {},
   "source": [
    "### XGBoost"
   ]
  },
  {
   "cell_type": "code",
   "execution_count": 119,
   "id": "8d7577cf",
   "metadata": {},
   "outputs": [
    {
     "name": "stdout",
     "output_type": "stream",
     "text": [
      "R2: 0.34\n"
     ]
    }
   ],
   "source": [
    "import xgboost as xgb\n",
    "\n",
    "xgb_regressor = xgb.XGBRegressor(objective ='reg:squarederror', n_estimators=100, random_state=42)\n",
    "xgb_regressor.fit(x_train, y_train)\n",
    "y_pred_xgb = xgb_regressor.predict(x_test)\n",
    "r2_xgb = r2_score(y_test, y_pred_xgb)\n",
    "print(\"R2: {:.2f}\".format(r2_xgb))\n"
   ]
  },
  {
   "cell_type": "markdown",
   "id": "4e8e8184",
   "metadata": {},
   "source": [
    "## Comparison\n",
    "\n",
    "The main strenght of the Catboost is the ability to quickly choose features. Because we had OHE, we couldn't simply use RFE as we did while using Catboost. We would have to manually print features importance and then delete the redundant columns.\n",
    "\n",
    "And even when we used the same columns in all three models, catboost was still better by roughly 4%"
   ]
  },
  {
   "cell_type": "code",
   "execution_count": 121,
   "id": "529ca2c6",
   "metadata": {},
   "outputs": [
    {
     "data": {
      "image/png": "[encoded data removed]",
      "text/plain": [
       "<Figure size 640x480 with 1 Axes>"
      ]
     },
     "metadata": {},
     "output_type": "display_data"
    }
   ],
   "source": [
    "import matplotlib.pyplot as plt\n",
    "\n",
    "categories = ['Random Forest', 'XGBoost', 'Linear Regression', 'CatBoost']\n",
    "values = [r2, r2_xgb, r2_linear, r2_cat]\n",
    "\n",
    "plt.bar(categories, values, color='skyblue')\n",
    "\n",
    "plt.xlabel('Model')\n",
    "plt.ylabel('R2')\n",
    "plt.title('Barplot comparison of models')\n",
    "\n",
    "plt.show()\n"
   ]
  },
  {
   "cell_type": "code",
   "execution_count": null,
   "id": "42577eab",
   "metadata": {},
   "outputs": [],
   "source": []
  },
  {
   "cell_type": "code",
   "execution_count": null,
   "id": "40c40b64",
   "metadata": {},
   "outputs": [],
   "source": []
  }
 ],
 "metadata": {
  "kernelspec": {
   "display_name": "Python 3 (ipykernel)",
   "language": "python",
   "name": "python3"
  },
  "language_info": {
   "codemirror_mode": {
    "name": "ipython",
    "version": 3
   },
   "file_extension": ".py",
   "mimetype": "text/x-python",
   "name": "python",
   "nbconvert_exporter": "python",
   "pygments_lexer": "ipython3",
   "version": "3.11.5"
  }
 },
 "nbformat": 4,
 "nbformat_minor": 5
}
